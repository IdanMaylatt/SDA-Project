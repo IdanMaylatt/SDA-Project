{
 "cells": [
  {
   "cell_type": "markdown",
   "id": "d4015b3b",
   "metadata": {},
   "source": [
    "<center style='font-size:28px;'><u><b>SDA</b></u></center>"
   ]
  },
  {
   "cell_type": "markdown",
   "id": "db5e9089",
   "metadata": {},
   "source": [
    "1. [Project Description](#start)\n",
    "2. [Pre-Processing](#pp)\n",
    "    * [Reading Files](#refa)\n",
    "    * [`calls`](#calls)\n",
    "        * [Proportion of Missed Calls](#pmc)\n",
    "    * [`internet`](#int)\n",
    "        * [Proportion of Missed Connections](#pomconc)\n",
    "    * [`messages`](#mess)\n",
    "        * [SMS per Month per User](#smspmpu)\n",
    "    * [`plans`](#plans)\n",
    "    * [`users`](#users)\n",
    "3. [Revenue](#rev)\n",
    "    * [Revenue per User per Month](#revpupm)\n",
    "    * [Cost Function](#cf)\n",
    "    * [Revenue Table](#rvtbl)\n",
    "    * [Seperating Charts by Locations and Creating Revenue Serieses per Area](#sclcrsa)\n",
    "    * [Creating Revenue Serieses per Plan](#rvspp)\n",
    "4. [Plan Analysis](#plalys)\n",
    "    * [Revenue per Plan](#rvprpl)\n",
    "    * [Duration per Plan](#drtprpl)\n",
    "    * [SMS per Plan](#smsprpl)\n",
    "    * [GB per Plan](#gbprp)\n",
    "5. [Hypotheses](#hyp)\n",
    "6. [Conclusion](#conc)"
   ]
  },
  {
   "cell_type": "markdown",
   "id": "1bd6c6ad",
   "metadata": {},
   "source": [
    "# Project Description <a id=\"start\"></a>"
   ]
  },
  {
   "cell_type": "markdown",
   "id": "515abfc0",
   "metadata": {},
   "source": [
    "- Analysis of phone service use, performed on a small subset of 500 Megaline customers\n",
    "- Finding profitable customer types\n",
    "- Inspect the 2 phone plans the company offers revenue-wise\n",
    "- Note: Megaline rounds seconds up to minutes, and megabytes to gigabytes"
   ]
  },
  {
   "cell_type": "code",
   "execution_count": 1,
   "id": "7b1a1d4a",
   "metadata": {},
   "outputs": [],
   "source": [
    "import pandas as pd\n",
    "import numpy as np\n",
    "from scipy import stats as st\n",
    "from functools import reduce\n",
    "import matplotlib.pyplot as plt\n",
    "import seaborn as sns"
   ]
  },
  {
   "cell_type": "markdown",
   "id": "f6b537d8",
   "metadata": {},
   "source": [
    "# Pre-Processing <a id=\"pp\"></a>"
   ]
  },
  {
   "cell_type": "markdown",
   "id": "61f1d729",
   "metadata": {},
   "source": [
    "## Reading files <a id=\"refa\"></a>"
   ]
  },
  {
   "cell_type": "code",
   "execution_count": 2,
   "id": "4b43cad9",
   "metadata": {},
   "outputs": [],
   "source": [
    "try:\n",
    "    calls = pd.read_csv('megaline_calls.csv')\n",
    "except:\n",
    "    calls = pd.read_csv('https://code.s3.yandex.net/datasets/megaline_calls.csv')\n",
    "    \n",
    "try:\n",
    "    internet = pd.read_csv('megaline_internet.csv')\n",
    "except:\n",
    "    internet = pd.read_csv('https://code.s3.yandex.net/datasets/megaline_internet.csv')\n",
    "    \n",
    "try:\n",
    "    messages = pd.read_csv('megaline_messages.csv')\n",
    "except:\n",
    "    messages = pd.read_csv('https://code.s3.yandex.net/datasets/megaline_messages.csv')\n",
    "    \n",
    "try:\n",
    "    plans = pd.read_csv('megaline_plans.csv')\n",
    "except:\n",
    "    plans = pd.read_csv('https://code.s3.yandex.net/datasets/megaline_plans.csv')\n",
    "    \n",
    "try:\n",
    "    users = pd.read_csv('megaline_users.csv')\n",
    "except:\n",
    "    users = pd.read_csv('https://code.s3.yandex.net/datasets/megaline_users.csv')"
   ]
  },
  {
   "cell_type": "markdown",
   "id": "4bcefc70",
   "metadata": {},
   "source": [
    "## `calls` <a id=\"calls\"></a>"
   ]
  },
  {
   "cell_type": "code",
   "execution_count": 3,
   "id": "dee48c98",
   "metadata": {},
   "outputs": [
    {
     "name": "stdout",
     "output_type": "stream",
     "text": [
      "<class 'pandas.core.frame.DataFrame'>\n",
      "RangeIndex: 137735 entries, 0 to 137734\n",
      "Data columns (total 4 columns):\n",
      " #   Column     Non-Null Count   Dtype  \n",
      "---  ------     --------------   -----  \n",
      " 0   id         137735 non-null  object \n",
      " 1   user_id    137735 non-null  int64  \n",
      " 2   call_date  137735 non-null  object \n",
      " 3   duration   137735 non-null  float64\n",
      "dtypes: float64(1), int64(1), object(2)\n",
      "memory usage: 4.2+ MB\n"
     ]
    }
   ],
   "source": [
    "calls.info()"
   ]
  },
  {
   "cell_type": "code",
   "execution_count": 4,
   "id": "0b9c8ca8",
   "metadata": {},
   "outputs": [
    {
     "data": {
      "text/html": [
       "<div>\n",
       "<style scoped>\n",
       "    .dataframe tbody tr th:only-of-type {\n",
       "        vertical-align: middle;\n",
       "    }\n",
       "\n",
       "    .dataframe tbody tr th {\n",
       "        vertical-align: top;\n",
       "    }\n",
       "\n",
       "    .dataframe thead th {\n",
       "        text-align: right;\n",
       "    }\n",
       "</style>\n",
       "<table border=\"1\" class=\"dataframe\">\n",
       "  <thead>\n",
       "    <tr style=\"text-align: right;\">\n",
       "      <th></th>\n",
       "      <th>id</th>\n",
       "      <th>user_id</th>\n",
       "      <th>call_date</th>\n",
       "      <th>duration</th>\n",
       "    </tr>\n",
       "  </thead>\n",
       "  <tbody>\n",
       "    <tr>\n",
       "      <th>0</th>\n",
       "      <td>1000_93</td>\n",
       "      <td>1000</td>\n",
       "      <td>2018-12-27</td>\n",
       "      <td>8.52</td>\n",
       "    </tr>\n",
       "    <tr>\n",
       "      <th>1</th>\n",
       "      <td>1000_145</td>\n",
       "      <td>1000</td>\n",
       "      <td>2018-12-27</td>\n",
       "      <td>13.66</td>\n",
       "    </tr>\n",
       "    <tr>\n",
       "      <th>2</th>\n",
       "      <td>1000_247</td>\n",
       "      <td>1000</td>\n",
       "      <td>2018-12-27</td>\n",
       "      <td>14.48</td>\n",
       "    </tr>\n",
       "    <tr>\n",
       "      <th>3</th>\n",
       "      <td>1000_309</td>\n",
       "      <td>1000</td>\n",
       "      <td>2018-12-28</td>\n",
       "      <td>5.76</td>\n",
       "    </tr>\n",
       "    <tr>\n",
       "      <th>4</th>\n",
       "      <td>1000_380</td>\n",
       "      <td>1000</td>\n",
       "      <td>2018-12-30</td>\n",
       "      <td>4.22</td>\n",
       "    </tr>\n",
       "  </tbody>\n",
       "</table>\n",
       "</div>"
      ],
      "text/plain": [
       "         id  user_id   call_date  duration\n",
       "0   1000_93     1000  2018-12-27      8.52\n",
       "1  1000_145     1000  2018-12-27     13.66\n",
       "2  1000_247     1000  2018-12-27     14.48\n",
       "3  1000_309     1000  2018-12-28      5.76\n",
       "4  1000_380     1000  2018-12-30      4.22"
      ]
     },
     "execution_count": 4,
     "metadata": {},
     "output_type": "execute_result"
    }
   ],
   "source": [
    "calls.head()"
   ]
  },
  {
   "cell_type": "code",
   "execution_count": 5,
   "id": "3e7a2388",
   "metadata": {},
   "outputs": [],
   "source": [
    "calls.call_date = calls.call_date.astype('datetime64[M]')\n",
    "\n",
    "#it stands for dates anyway,\n",
    "#and its already known there's no data from years other than 2018"
   ]
  },
  {
   "cell_type": "code",
   "execution_count": 6,
   "id": "1b580304",
   "metadata": {},
   "outputs": [
    {
     "data": {
      "text/plain": [
       "id           0\n",
       "user_id      0\n",
       "call_date    0\n",
       "duration     0\n",
       "dtype: int64"
      ]
     },
     "execution_count": 6,
     "metadata": {},
     "output_type": "execute_result"
    }
   ],
   "source": [
    "calls.isna().sum()"
   ]
  },
  {
   "cell_type": "code",
   "execution_count": 7,
   "id": "310cb138",
   "metadata": {},
   "outputs": [
    {
     "data": {
      "text/html": [
       "<div>\n",
       "<style scoped>\n",
       "    .dataframe tbody tr th:only-of-type {\n",
       "        vertical-align: middle;\n",
       "    }\n",
       "\n",
       "    .dataframe tbody tr th {\n",
       "        vertical-align: top;\n",
       "    }\n",
       "\n",
       "    .dataframe thead th {\n",
       "        text-align: right;\n",
       "    }\n",
       "</style>\n",
       "<table border=\"1\" class=\"dataframe\">\n",
       "  <thead>\n",
       "    <tr style=\"text-align: right;\">\n",
       "      <th></th>\n",
       "      <th>id</th>\n",
       "      <th>user_id</th>\n",
       "      <th>call_date</th>\n",
       "      <th>duration</th>\n",
       "    </tr>\n",
       "  </thead>\n",
       "  <tbody>\n",
       "  </tbody>\n",
       "</table>\n",
       "</div>"
      ],
      "text/plain": [
       "Empty DataFrame\n",
       "Columns: [id, user_id, call_date, duration]\n",
       "Index: []"
      ]
     },
     "execution_count": 7,
     "metadata": {},
     "output_type": "execute_result"
    }
   ],
   "source": [
    "calls[calls['id'] == 'None']"
   ]
  },
  {
   "cell_type": "code",
   "execution_count": 8,
   "id": "744d6a6d",
   "metadata": {},
   "outputs": [
    {
     "data": {
      "text/html": [
       "<div>\n",
       "<style scoped>\n",
       "    .dataframe tbody tr th:only-of-type {\n",
       "        vertical-align: middle;\n",
       "    }\n",
       "\n",
       "    .dataframe tbody tr th {\n",
       "        vertical-align: top;\n",
       "    }\n",
       "\n",
       "    .dataframe thead th {\n",
       "        text-align: right;\n",
       "    }\n",
       "</style>\n",
       "<table border=\"1\" class=\"dataframe\">\n",
       "  <thead>\n",
       "    <tr style=\"text-align: right;\">\n",
       "      <th></th>\n",
       "      <th>id</th>\n",
       "      <th>user_id</th>\n",
       "      <th>call_date</th>\n",
       "      <th>duration</th>\n",
       "    </tr>\n",
       "  </thead>\n",
       "  <tbody>\n",
       "  </tbody>\n",
       "</table>\n",
       "</div>"
      ],
      "text/plain": [
       "Empty DataFrame\n",
       "Columns: [id, user_id, call_date, duration]\n",
       "Index: []"
      ]
     },
     "execution_count": 8,
     "metadata": {},
     "output_type": "execute_result"
    }
   ],
   "source": [
    "calls[calls['call_date'] == 'None']"
   ]
  },
  {
   "cell_type": "code",
   "execution_count": 9,
   "id": "3f6e286d",
   "metadata": {},
   "outputs": [
    {
     "data": {
      "text/plain": [
       "0"
      ]
     },
     "execution_count": 9,
     "metadata": {},
     "output_type": "execute_result"
    }
   ],
   "source": [
    "calls.duplicated().sum()"
   ]
  },
  {
   "cell_type": "markdown",
   "id": "24df1d3b",
   "metadata": {},
   "source": [
    "No missing values, hidden 'None's and duplicates."
   ]
  },
  {
   "cell_type": "code",
   "execution_count": 10,
   "id": "934a27c1",
   "metadata": {},
   "outputs": [
    {
     "data": {
      "text/html": [
       "<div>\n",
       "<style scoped>\n",
       "    .dataframe tbody tr th:only-of-type {\n",
       "        vertical-align: middle;\n",
       "    }\n",
       "\n",
       "    .dataframe tbody tr th {\n",
       "        vertical-align: top;\n",
       "    }\n",
       "\n",
       "    .dataframe thead th {\n",
       "        text-align: right;\n",
       "    }\n",
       "</style>\n",
       "<table border=\"1\" class=\"dataframe\">\n",
       "  <thead>\n",
       "    <tr style=\"text-align: right;\">\n",
       "      <th></th>\n",
       "      <th>user_id</th>\n",
       "      <th>duration</th>\n",
       "    </tr>\n",
       "  </thead>\n",
       "  <tbody>\n",
       "    <tr>\n",
       "      <th>count</th>\n",
       "      <td>137735.000000</td>\n",
       "      <td>137735.000000</td>\n",
       "    </tr>\n",
       "    <tr>\n",
       "      <th>mean</th>\n",
       "      <td>1247.658046</td>\n",
       "      <td>6.745927</td>\n",
       "    </tr>\n",
       "    <tr>\n",
       "      <th>std</th>\n",
       "      <td>139.416268</td>\n",
       "      <td>5.839241</td>\n",
       "    </tr>\n",
       "    <tr>\n",
       "      <th>min</th>\n",
       "      <td>1000.000000</td>\n",
       "      <td>0.000000</td>\n",
       "    </tr>\n",
       "    <tr>\n",
       "      <th>25%</th>\n",
       "      <td>1128.000000</td>\n",
       "      <td>1.290000</td>\n",
       "    </tr>\n",
       "    <tr>\n",
       "      <th>50%</th>\n",
       "      <td>1247.000000</td>\n",
       "      <td>5.980000</td>\n",
       "    </tr>\n",
       "    <tr>\n",
       "      <th>75%</th>\n",
       "      <td>1365.000000</td>\n",
       "      <td>10.690000</td>\n",
       "    </tr>\n",
       "    <tr>\n",
       "      <th>max</th>\n",
       "      <td>1499.000000</td>\n",
       "      <td>37.600000</td>\n",
       "    </tr>\n",
       "  </tbody>\n",
       "</table>\n",
       "</div>"
      ],
      "text/plain": [
       "             user_id       duration\n",
       "count  137735.000000  137735.000000\n",
       "mean     1247.658046       6.745927\n",
       "std       139.416268       5.839241\n",
       "min      1000.000000       0.000000\n",
       "25%      1128.000000       1.290000\n",
       "50%      1247.000000       5.980000\n",
       "75%      1365.000000      10.690000\n",
       "max      1499.000000      37.600000"
      ]
     },
     "execution_count": 10,
     "metadata": {},
     "output_type": "execute_result"
    }
   ],
   "source": [
    "calls.describe()"
   ]
  },
  {
   "cell_type": "code",
   "execution_count": 11,
   "id": "5af59489",
   "metadata": {},
   "outputs": [
    {
     "data": {
      "image/png": "[encoded data removed]",
      "text/plain": [
       "<Figure size 432x288 with 1 Axes>"
      ]
     },
     "metadata": {
      "needs_background": "light"
     },
     "output_type": "display_data"
    }
   ],
   "source": [
    "calls.hist('duration', bins=12, range=(0,24))\n",
    "# mean + 3 * std = 24. Although its not normal distribution,\n",
    "# but as its skewed considerably to the left its easy to see graphically that 24 as a top margin is fine\n",
    "plt.title('duration')\n",
    "plt.ylabel('num of calls')\n",
    "plt.xlabel('call duration')\n",
    "plt.show()"
   ]
  },
  {
   "cell_type": "markdown",
   "id": "eb3887c3",
   "metadata": {},
   "source": [
    "Strange thing concerning the `id` column is noted - it seems there are missing calls from the data. The full data might be reached, to find out whats the deal. It might be calls made by customers who dont belong to the 500 customers reviewed, and therefore not relevant for this analysis.\n",
    "From the histogram its easy to see there are a lot of short/missed calls. If those calls are missed they wont add up to some positive duration so they wont effect the revenue analyzed. If those are just very short calls, they would be summed to some positive duration in the lines to come thus will effect the revenue as they should"
   ]
  },
  {
   "cell_type": "markdown",
   "id": "7b11ce71",
   "metadata": {},
   "source": [
    "As the customer is charged for the duration rounded up, it'll be better to reflect it in advance in the data:"
   ]
  },
  {
   "cell_type": "code",
   "execution_count": 12,
   "id": "1ae24928",
   "metadata": {},
   "outputs": [],
   "source": [
    "calls.duration = np.ceil(calls['duration']).astype('int64') #its ints anyway"
   ]
  },
  {
   "cell_type": "markdown",
   "id": "d5e9ff5f",
   "metadata": {},
   "source": [
    "### Proportion of Missed Calls <a id=\"pmc\"></a>"
   ]
  },
  {
   "cell_type": "code",
   "execution_count": 13,
   "id": "05379ca9",
   "metadata": {},
   "outputs": [
    {
     "name": "stdout",
     "output_type": "stream",
     "text": [
      "number of calling users - 481\n",
      "% of missed calls - 19.482339274694162%\n",
      "number of miss-calling users - 478\n"
     ]
    }
   ],
   "source": [
    "calling_users = calls['user_id'].unique()\n",
    "print('number of calling users -',(len(calling_users)))\n",
    "missed_calls = calls.query('duration == 0')\n",
    "print('% of missed calls -', len(missed_calls) / len(calls) * 100, end='')\n",
    "print('%')\n",
    "miss_users = missed_calls['user_id'].unique()\n",
    "print('number of miss-calling users -',len(miss_users))"
   ]
  },
  {
   "cell_type": "markdown",
   "id": "bd25cd0d",
   "metadata": {},
   "source": [
    "About 20% of calls are missed, and the company doesn't charge them.\n",
    "Less than 1% of calling clients didn't had missing calls, so it's pretty common.\n",
    "By keeping those missed calls it'll be easier to make further research as to the effect of missed calls on other user criterias."
   ]
  },
  {
   "cell_type": "code",
   "execution_count": 14,
   "id": "d89fece5",
   "metadata": {},
   "outputs": [
    {
     "data": {
      "text/html": [
       "<div>\n",
       "<style scoped>\n",
       "    .dataframe tbody tr th:only-of-type {\n",
       "        vertical-align: middle;\n",
       "    }\n",
       "\n",
       "    .dataframe tbody tr th {\n",
       "        vertical-align: top;\n",
       "    }\n",
       "\n",
       "    .dataframe thead th {\n",
       "        text-align: right;\n",
       "    }\n",
       "</style>\n",
       "<table border=\"1\" class=\"dataframe\">\n",
       "  <thead>\n",
       "    <tr style=\"text-align: right;\">\n",
       "      <th></th>\n",
       "      <th>user_id</th>\n",
       "      <th>month</th>\n",
       "      <th>duration</th>\n",
       "      <th>calls</th>\n",
       "    </tr>\n",
       "  </thead>\n",
       "  <tbody>\n",
       "    <tr>\n",
       "      <th>0</th>\n",
       "      <td>1000</td>\n",
       "      <td>12</td>\n",
       "      <td>124</td>\n",
       "      <td>16</td>\n",
       "    </tr>\n",
       "    <tr>\n",
       "      <th>1</th>\n",
       "      <td>1001</td>\n",
       "      <td>8</td>\n",
       "      <td>182</td>\n",
       "      <td>27</td>\n",
       "    </tr>\n",
       "    <tr>\n",
       "      <th>2</th>\n",
       "      <td>1001</td>\n",
       "      <td>9</td>\n",
       "      <td>315</td>\n",
       "      <td>49</td>\n",
       "    </tr>\n",
       "    <tr>\n",
       "      <th>3</th>\n",
       "      <td>1001</td>\n",
       "      <td>10</td>\n",
       "      <td>393</td>\n",
       "      <td>65</td>\n",
       "    </tr>\n",
       "    <tr>\n",
       "      <th>4</th>\n",
       "      <td>1001</td>\n",
       "      <td>11</td>\n",
       "      <td>426</td>\n",
       "      <td>64</td>\n",
       "    </tr>\n",
       "    <tr>\n",
       "      <th>...</th>\n",
       "      <td>...</td>\n",
       "      <td>...</td>\n",
       "      <td>...</td>\n",
       "      <td>...</td>\n",
       "    </tr>\n",
       "    <tr>\n",
       "      <th>2253</th>\n",
       "      <td>1498</td>\n",
       "      <td>12</td>\n",
       "      <td>339</td>\n",
       "      <td>39</td>\n",
       "    </tr>\n",
       "    <tr>\n",
       "      <th>2254</th>\n",
       "      <td>1499</td>\n",
       "      <td>9</td>\n",
       "      <td>346</td>\n",
       "      <td>41</td>\n",
       "    </tr>\n",
       "    <tr>\n",
       "      <th>2255</th>\n",
       "      <td>1499</td>\n",
       "      <td>10</td>\n",
       "      <td>385</td>\n",
       "      <td>53</td>\n",
       "    </tr>\n",
       "    <tr>\n",
       "      <th>2256</th>\n",
       "      <td>1499</td>\n",
       "      <td>11</td>\n",
       "      <td>308</td>\n",
       "      <td>45</td>\n",
       "    </tr>\n",
       "    <tr>\n",
       "      <th>2257</th>\n",
       "      <td>1499</td>\n",
       "      <td>12</td>\n",
       "      <td>496</td>\n",
       "      <td>65</td>\n",
       "    </tr>\n",
       "  </tbody>\n",
       "</table>\n",
       "<p>2258 rows × 4 columns</p>\n",
       "</div>"
      ],
      "text/plain": [
       "      user_id  month  duration  calls\n",
       "0        1000     12       124     16\n",
       "1        1001      8       182     27\n",
       "2        1001      9       315     49\n",
       "3        1001     10       393     65\n",
       "4        1001     11       426     64\n",
       "...       ...    ...       ...    ...\n",
       "2253     1498     12       339     39\n",
       "2254     1499      9       346     41\n",
       "2255     1499     10       385     53\n",
       "2256     1499     11       308     45\n",
       "2257     1499     12       496     65\n",
       "\n",
       "[2258 rows x 4 columns]"
      ]
     },
     "execution_count": 14,
     "metadata": {},
     "output_type": "execute_result"
    }
   ],
   "source": [
    "# adding month column in order to group the data by user monthly records later\n",
    "calls['month'] = pd.DatetimeIndex(calls['call_date']).month\n",
    "\n",
    "# preparing auxilary data frame for later calculating revenue\n",
    "# the duration is summed, to get the total call use, and counted to get total number of calls\n",
    "df_calls = calls.groupby(['user_id','month'])['duration'].agg(['sum','count'])\n",
    "df_calls = df_calls.rename({'sum': 'duration', 'count': 'calls'}, axis=1).add_suffix('').reset_index()\n",
    "df_calls"
   ]
  },
  {
   "cell_type": "code",
   "execution_count": 15,
   "id": "34418fea",
   "metadata": {},
   "outputs": [
    {
     "data": {
      "text/plain": [
       "12    460\n",
       "11    403\n",
       "10    337\n",
       "9     277\n",
       "8     230\n",
       "7     179\n",
       "6     141\n",
       "5     104\n",
       "4      71\n",
       "3      35\n",
       "2      15\n",
       "1       6\n",
       "Name: month, dtype: int64"
      ]
     },
     "execution_count": 15,
     "metadata": {},
     "output_type": "execute_result"
    }
   ],
   "source": [
    "df_calls.month.value_counts()"
   ]
  },
  {
   "cell_type": "markdown",
   "id": "4e76bfc5",
   "metadata": {},
   "source": [
    "It seems most of the calls are from Decemeber, and that the number of calls per month has been rising steeply through the year."
   ]
  },
  {
   "cell_type": "markdown",
   "id": "a3eaaf65",
   "metadata": {},
   "source": [
    "## `internet` <a id=\"int\"></a>"
   ]
  },
  {
   "cell_type": "code",
   "execution_count": 16,
   "id": "2ef3b8bf",
   "metadata": {},
   "outputs": [
    {
     "name": "stdout",
     "output_type": "stream",
     "text": [
      "<class 'pandas.core.frame.DataFrame'>\n",
      "RangeIndex: 104825 entries, 0 to 104824\n",
      "Data columns (total 4 columns):\n",
      " #   Column        Non-Null Count   Dtype         \n",
      "---  ------        --------------   -----         \n",
      " 0   id            104825 non-null  object        \n",
      " 1   user_id       104825 non-null  int64         \n",
      " 2   session_date  104825 non-null  datetime64[ns]\n",
      " 3   mb_used       104825 non-null  float64       \n",
      "dtypes: datetime64[ns](1), float64(1), int64(1), object(1)\n",
      "memory usage: 3.2+ MB\n"
     ]
    }
   ],
   "source": [
    "internet.session_date = internet.session_date.astype('datetime64[M]')\n",
    "internet.info()"
   ]
  },
  {
   "cell_type": "code",
   "execution_count": 17,
   "id": "b03b6403",
   "metadata": {},
   "outputs": [
    {
     "data": {
      "text/html": [
       "<div>\n",
       "<style scoped>\n",
       "    .dataframe tbody tr th:only-of-type {\n",
       "        vertical-align: middle;\n",
       "    }\n",
       "\n",
       "    .dataframe tbody tr th {\n",
       "        vertical-align: top;\n",
       "    }\n",
       "\n",
       "    .dataframe thead th {\n",
       "        text-align: right;\n",
       "    }\n",
       "</style>\n",
       "<table border=\"1\" class=\"dataframe\">\n",
       "  <thead>\n",
       "    <tr style=\"text-align: right;\">\n",
       "      <th></th>\n",
       "      <th>id</th>\n",
       "      <th>user_id</th>\n",
       "      <th>session_date</th>\n",
       "      <th>mb_used</th>\n",
       "    </tr>\n",
       "  </thead>\n",
       "  <tbody>\n",
       "    <tr>\n",
       "      <th>0</th>\n",
       "      <td>1000_13</td>\n",
       "      <td>1000</td>\n",
       "      <td>2018-12-01</td>\n",
       "      <td>89.86</td>\n",
       "    </tr>\n",
       "    <tr>\n",
       "      <th>1</th>\n",
       "      <td>1000_204</td>\n",
       "      <td>1000</td>\n",
       "      <td>2018-12-01</td>\n",
       "      <td>0.00</td>\n",
       "    </tr>\n",
       "    <tr>\n",
       "      <th>2</th>\n",
       "      <td>1000_379</td>\n",
       "      <td>1000</td>\n",
       "      <td>2018-12-01</td>\n",
       "      <td>660.40</td>\n",
       "    </tr>\n",
       "    <tr>\n",
       "      <th>3</th>\n",
       "      <td>1000_413</td>\n",
       "      <td>1000</td>\n",
       "      <td>2018-12-01</td>\n",
       "      <td>270.99</td>\n",
       "    </tr>\n",
       "    <tr>\n",
       "      <th>4</th>\n",
       "      <td>1000_442</td>\n",
       "      <td>1000</td>\n",
       "      <td>2018-12-01</td>\n",
       "      <td>880.22</td>\n",
       "    </tr>\n",
       "  </tbody>\n",
       "</table>\n",
       "</div>"
      ],
      "text/plain": [
       "         id  user_id session_date  mb_used\n",
       "0   1000_13     1000   2018-12-01    89.86\n",
       "1  1000_204     1000   2018-12-01     0.00\n",
       "2  1000_379     1000   2018-12-01   660.40\n",
       "3  1000_413     1000   2018-12-01   270.99\n",
       "4  1000_442     1000   2018-12-01   880.22"
      ]
     },
     "execution_count": 17,
     "metadata": {},
     "output_type": "execute_result"
    }
   ],
   "source": [
    "internet.head()"
   ]
  },
  {
   "cell_type": "code",
   "execution_count": 18,
   "id": "1a37ee04",
   "metadata": {},
   "outputs": [
    {
     "data": {
      "text/plain": [
       "id              0\n",
       "user_id         0\n",
       "session_date    0\n",
       "mb_used         0\n",
       "dtype: int64"
      ]
     },
     "execution_count": 18,
     "metadata": {},
     "output_type": "execute_result"
    }
   ],
   "source": [
    "internet.isna().sum()"
   ]
  },
  {
   "cell_type": "code",
   "execution_count": 19,
   "id": "82bc21f5",
   "metadata": {},
   "outputs": [
    {
     "data": {
      "text/html": [
       "<div>\n",
       "<style scoped>\n",
       "    .dataframe tbody tr th:only-of-type {\n",
       "        vertical-align: middle;\n",
       "    }\n",
       "\n",
       "    .dataframe tbody tr th {\n",
       "        vertical-align: top;\n",
       "    }\n",
       "\n",
       "    .dataframe thead th {\n",
       "        text-align: right;\n",
       "    }\n",
       "</style>\n",
       "<table border=\"1\" class=\"dataframe\">\n",
       "  <thead>\n",
       "    <tr style=\"text-align: right;\">\n",
       "      <th></th>\n",
       "      <th>id</th>\n",
       "      <th>user_id</th>\n",
       "      <th>session_date</th>\n",
       "      <th>mb_used</th>\n",
       "    </tr>\n",
       "  </thead>\n",
       "  <tbody>\n",
       "  </tbody>\n",
       "</table>\n",
       "</div>"
      ],
      "text/plain": [
       "Empty DataFrame\n",
       "Columns: [id, user_id, session_date, mb_used]\n",
       "Index: []"
      ]
     },
     "execution_count": 19,
     "metadata": {},
     "output_type": "execute_result"
    }
   ],
   "source": [
    "internet[internet['id'] == 'None']"
   ]
  },
  {
   "cell_type": "code",
   "execution_count": 20,
   "id": "3af575e2",
   "metadata": {},
   "outputs": [
    {
     "data": {
      "text/html": [
       "<div>\n",
       "<style scoped>\n",
       "    .dataframe tbody tr th:only-of-type {\n",
       "        vertical-align: middle;\n",
       "    }\n",
       "\n",
       "    .dataframe tbody tr th {\n",
       "        vertical-align: top;\n",
       "    }\n",
       "\n",
       "    .dataframe thead th {\n",
       "        text-align: right;\n",
       "    }\n",
       "</style>\n",
       "<table border=\"1\" class=\"dataframe\">\n",
       "  <thead>\n",
       "    <tr style=\"text-align: right;\">\n",
       "      <th></th>\n",
       "      <th>id</th>\n",
       "      <th>user_id</th>\n",
       "      <th>session_date</th>\n",
       "      <th>mb_used</th>\n",
       "    </tr>\n",
       "  </thead>\n",
       "  <tbody>\n",
       "  </tbody>\n",
       "</table>\n",
       "</div>"
      ],
      "text/plain": [
       "Empty DataFrame\n",
       "Columns: [id, user_id, session_date, mb_used]\n",
       "Index: []"
      ]
     },
     "execution_count": 20,
     "metadata": {},
     "output_type": "execute_result"
    }
   ],
   "source": [
    "internet[internet['session_date'] == 'None']"
   ]
  },
  {
   "cell_type": "code",
   "execution_count": 21,
   "id": "0f2a7933",
   "metadata": {},
   "outputs": [
    {
     "data": {
      "text/plain": [
       "0"
      ]
     },
     "execution_count": 21,
     "metadata": {},
     "output_type": "execute_result"
    }
   ],
   "source": [
    "internet.duplicated().sum()"
   ]
  },
  {
   "cell_type": "markdown",
   "id": "79993eac",
   "metadata": {},
   "source": [
    "No missing or duplicated values"
   ]
  },
  {
   "cell_type": "code",
   "execution_count": 22,
   "id": "94a9fc38",
   "metadata": {},
   "outputs": [
    {
     "data": {
      "text/html": [
       "<div>\n",
       "<style scoped>\n",
       "    .dataframe tbody tr th:only-of-type {\n",
       "        vertical-align: middle;\n",
       "    }\n",
       "\n",
       "    .dataframe tbody tr th {\n",
       "        vertical-align: top;\n",
       "    }\n",
       "\n",
       "    .dataframe thead th {\n",
       "        text-align: right;\n",
       "    }\n",
       "</style>\n",
       "<table border=\"1\" class=\"dataframe\">\n",
       "  <thead>\n",
       "    <tr style=\"text-align: right;\">\n",
       "      <th></th>\n",
       "      <th>user_id</th>\n",
       "      <th>mb_used</th>\n",
       "    </tr>\n",
       "  </thead>\n",
       "  <tbody>\n",
       "    <tr>\n",
       "      <th>count</th>\n",
       "      <td>104825.000000</td>\n",
       "      <td>104825.000000</td>\n",
       "    </tr>\n",
       "    <tr>\n",
       "      <th>mean</th>\n",
       "      <td>1242.496361</td>\n",
       "      <td>366.713701</td>\n",
       "    </tr>\n",
       "    <tr>\n",
       "      <th>std</th>\n",
       "      <td>142.053913</td>\n",
       "      <td>277.170542</td>\n",
       "    </tr>\n",
       "    <tr>\n",
       "      <th>min</th>\n",
       "      <td>1000.000000</td>\n",
       "      <td>0.000000</td>\n",
       "    </tr>\n",
       "    <tr>\n",
       "      <th>25%</th>\n",
       "      <td>1122.000000</td>\n",
       "      <td>136.080000</td>\n",
       "    </tr>\n",
       "    <tr>\n",
       "      <th>50%</th>\n",
       "      <td>1236.000000</td>\n",
       "      <td>343.980000</td>\n",
       "    </tr>\n",
       "    <tr>\n",
       "      <th>75%</th>\n",
       "      <td>1367.000000</td>\n",
       "      <td>554.610000</td>\n",
       "    </tr>\n",
       "    <tr>\n",
       "      <th>max</th>\n",
       "      <td>1499.000000</td>\n",
       "      <td>1693.470000</td>\n",
       "    </tr>\n",
       "  </tbody>\n",
       "</table>\n",
       "</div>"
      ],
      "text/plain": [
       "             user_id        mb_used\n",
       "count  104825.000000  104825.000000\n",
       "mean     1242.496361     366.713701\n",
       "std       142.053913     277.170542\n",
       "min      1000.000000       0.000000\n",
       "25%      1122.000000     136.080000\n",
       "50%      1236.000000     343.980000\n",
       "75%      1367.000000     554.610000\n",
       "max      1499.000000    1693.470000"
      ]
     },
     "execution_count": 22,
     "metadata": {},
     "output_type": "execute_result"
    }
   ],
   "source": [
    "internet.describe()"
   ]
  },
  {
   "cell_type": "code",
   "execution_count": 23,
   "id": "e98608c9",
   "metadata": {},
   "outputs": [
    {
     "data": {
      "image/png": "[encoded data removed]",
      "text/plain": [
       "<Figure size 432x288 with 1 Axes>"
      ]
     },
     "metadata": {
      "needs_background": "light"
     },
     "output_type": "display_data"
    }
   ],
   "source": [
    "internet.hist('mb_used', bins=12, range=(0,1700)) #1700 = max value\n",
    "plt.title('data usage')\n",
    "plt.ylabel('num of sessions')\n",
    "plt.xlabel('mb used')\n",
    "plt.show()"
   ]
  },
  {
   "cell_type": "markdown",
   "id": "3304249e",
   "metadata": {},
   "source": [
    "The histogram clearly shows the \"popularity\" of short sessions. It makes sense - chats in a lot of apps are performed in sessions. Checking for directions, weather and premier league results are all short sessions"
   ]
  },
  {
   "cell_type": "markdown",
   "id": "fac9f874",
   "metadata": {},
   "source": [
    "### Proportion of Missed Connections <a id=\"pomconc\"></a>"
   ]
  },
  {
   "cell_type": "code",
   "execution_count": 24,
   "id": "2273ff1e",
   "metadata": {},
   "outputs": [
    {
     "name": "stdout",
     "output_type": "stream",
     "text": [
      "number of internet users - 489\n",
      "% of missed connections - 13.11423801574052\n",
      "number of miss connect users - 477\n"
     ]
    }
   ],
   "source": [
    "internet_users = internet['user_id'].unique()\n",
    "print('number of internet users -',(len(internet_users)))\n",
    "missed_connection = internet.query('mb_used == 0')\n",
    "print('% of missed connections -',len(missed_connection) / len(internet) * 100)\n",
    "\n",
    "# users who experienced missed connections\n",
    "miss_connect_users = missed_connection['user_id'].unique()\n",
    "print('number of miss connect users -',len(miss_connect_users))"
   ]
  },
  {
   "cell_type": "markdown",
   "id": "8bf888c5",
   "metadata": {},
   "source": [
    "About 13% are missed connections. Megaline doesn't charge them.\n",
    "(489-477)/489 = 2.5% of internet clients didn't had missed connections, so it's pretty common.\n",
    "By keeping those missed connections it'll be easier to make further research as to the effect of missed connections on other user criterias. Anyway, keeping them wont affect monthly fees.\n",
    "\n",
    "Some of those \"failed\" connections (or all of them) can be valid connnections only too small to be logged by the server. The distribution of those cases between the \"failed\" connections is unknown.\n",
    "But, as 13% and 20% are roughly the same size, its not completely useless to keep those failed connections."
   ]
  },
  {
   "cell_type": "code",
   "execution_count": 25,
   "id": "2c749528",
   "metadata": {},
   "outputs": [],
   "source": [
    "# again, adding month column for further analysis\n",
    "internet['month'] = pd.DatetimeIndex(internet['session_date']).month"
   ]
  },
  {
   "cell_type": "code",
   "execution_count": 26,
   "id": "20424cfd",
   "metadata": {},
   "outputs": [
    {
     "data": {
      "text/html": [
       "<div>\n",
       "<style scoped>\n",
       "    .dataframe tbody tr th:only-of-type {\n",
       "        vertical-align: middle;\n",
       "    }\n",
       "\n",
       "    .dataframe tbody tr th {\n",
       "        vertical-align: top;\n",
       "    }\n",
       "\n",
       "    .dataframe thead th {\n",
       "        text-align: right;\n",
       "    }\n",
       "</style>\n",
       "<table border=\"1\" class=\"dataframe\">\n",
       "  <thead>\n",
       "    <tr style=\"text-align: right;\">\n",
       "      <th></th>\n",
       "      <th>user_id</th>\n",
       "      <th>month</th>\n",
       "      <th>gb</th>\n",
       "    </tr>\n",
       "  </thead>\n",
       "  <tbody>\n",
       "    <tr>\n",
       "      <th>0</th>\n",
       "      <td>1000</td>\n",
       "      <td>12</td>\n",
       "      <td>2</td>\n",
       "    </tr>\n",
       "    <tr>\n",
       "      <th>1</th>\n",
       "      <td>1001</td>\n",
       "      <td>8</td>\n",
       "      <td>7</td>\n",
       "    </tr>\n",
       "    <tr>\n",
       "      <th>2</th>\n",
       "      <td>1001</td>\n",
       "      <td>9</td>\n",
       "      <td>14</td>\n",
       "    </tr>\n",
       "    <tr>\n",
       "      <th>3</th>\n",
       "      <td>1001</td>\n",
       "      <td>10</td>\n",
       "      <td>22</td>\n",
       "    </tr>\n",
       "    <tr>\n",
       "      <th>4</th>\n",
       "      <td>1001</td>\n",
       "      <td>11</td>\n",
       "      <td>19</td>\n",
       "    </tr>\n",
       "    <tr>\n",
       "      <th>...</th>\n",
       "      <td>...</td>\n",
       "      <td>...</td>\n",
       "      <td>...</td>\n",
       "    </tr>\n",
       "    <tr>\n",
       "      <th>2272</th>\n",
       "      <td>1498</td>\n",
       "      <td>12</td>\n",
       "      <td>23</td>\n",
       "    </tr>\n",
       "    <tr>\n",
       "      <th>2273</th>\n",
       "      <td>1499</td>\n",
       "      <td>9</td>\n",
       "      <td>13</td>\n",
       "    </tr>\n",
       "    <tr>\n",
       "      <th>2274</th>\n",
       "      <td>1499</td>\n",
       "      <td>10</td>\n",
       "      <td>20</td>\n",
       "    </tr>\n",
       "    <tr>\n",
       "      <th>2275</th>\n",
       "      <td>1499</td>\n",
       "      <td>11</td>\n",
       "      <td>17</td>\n",
       "    </tr>\n",
       "    <tr>\n",
       "      <th>2276</th>\n",
       "      <td>1499</td>\n",
       "      <td>12</td>\n",
       "      <td>22</td>\n",
       "    </tr>\n",
       "  </tbody>\n",
       "</table>\n",
       "<p>2277 rows × 3 columns</p>\n",
       "</div>"
      ],
      "text/plain": [
       "      user_id  month  gb\n",
       "0        1000     12   2\n",
       "1        1001      8   7\n",
       "2        1001      9  14\n",
       "3        1001     10  22\n",
       "4        1001     11  19\n",
       "...       ...    ...  ..\n",
       "2272     1498     12  23\n",
       "2273     1499      9  13\n",
       "2274     1499     10  20\n",
       "2275     1499     11  17\n",
       "2276     1499     12  22\n",
       "\n",
       "[2277 rows x 3 columns]"
      ]
     },
     "execution_count": 26,
     "metadata": {},
     "output_type": "execute_result"
    }
   ],
   "source": [
    "# preparing auxilary data frame for later calculating revenue\n",
    "\n",
    "tmp = internet.groupby(['user_id','month'])['mb_used'].sum() / 1024\n",
    "# we ceil the outcome as a customer pays for a full GB for every part it uses of it (monthly). \n",
    "df_data = tmp.apply(np.ceil)\n",
    "\n",
    "# again, for later analysis its better to transform the groupby's indexes and duration column to 3 columns in a\n",
    "#\"normal\" indexed data frame\n",
    "df_data = df_data.to_frame()\n",
    "\n",
    "# earlier we divided mb_used by 1024 and rounded up the monthly sum, thus calculating gb_user per month per customer \n",
    "df_data = df_data.rename({'mb_used': 'gb'}, axis=1).add_suffix('').reset_index()\n",
    "df_data['gb'] = df_data['gb'].astype('int64')\n",
    "df_data"
   ]
  },
  {
   "cell_type": "code",
   "execution_count": 27,
   "id": "67bd5fe3",
   "metadata": {},
   "outputs": [
    {
     "data": {
      "text/plain": [
       "12    23492\n",
       "11    18651\n",
       "10    16193\n",
       "9     12722\n",
       "8     10718\n",
       "7      8110\n",
       "6      6057\n",
       "5      4288\n",
       "4      2558\n",
       "3      1336\n",
       "2       604\n",
       "1        96\n",
       "Name: month, dtype: int64"
      ]
     },
     "execution_count": 27,
     "metadata": {},
     "output_type": "execute_result"
    }
   ],
   "source": [
    "internet.month.value_counts()"
   ]
  },
  {
   "cell_type": "markdown",
   "id": "e667712a",
   "metadata": {},
   "source": [
    "Again, customer usage kept rising through the year."
   ]
  },
  {
   "cell_type": "markdown",
   "id": "ac8ce099",
   "metadata": {},
   "source": [
    "## `messages` <a id=\"mess\"></a>"
   ]
  },
  {
   "cell_type": "code",
   "execution_count": 28,
   "id": "d24d2539",
   "metadata": {},
   "outputs": [
    {
     "name": "stdout",
     "output_type": "stream",
     "text": [
      "<class 'pandas.core.frame.DataFrame'>\n",
      "RangeIndex: 76051 entries, 0 to 76050\n",
      "Data columns (total 3 columns):\n",
      " #   Column        Non-Null Count  Dtype \n",
      "---  ------        --------------  ----- \n",
      " 0   id            76051 non-null  object\n",
      " 1   user_id       76051 non-null  int64 \n",
      " 2   message_date  76051 non-null  object\n",
      "dtypes: int64(1), object(2)\n",
      "memory usage: 1.7+ MB\n"
     ]
    }
   ],
   "source": [
    "messages.info()"
   ]
  },
  {
   "cell_type": "code",
   "execution_count": 29,
   "id": "f445ef8f",
   "metadata": {},
   "outputs": [
    {
     "data": {
      "text/html": [
       "<div>\n",
       "<style scoped>\n",
       "    .dataframe tbody tr th:only-of-type {\n",
       "        vertical-align: middle;\n",
       "    }\n",
       "\n",
       "    .dataframe tbody tr th {\n",
       "        vertical-align: top;\n",
       "    }\n",
       "\n",
       "    .dataframe thead th {\n",
       "        text-align: right;\n",
       "    }\n",
       "</style>\n",
       "<table border=\"1\" class=\"dataframe\">\n",
       "  <thead>\n",
       "    <tr style=\"text-align: right;\">\n",
       "      <th></th>\n",
       "      <th>id</th>\n",
       "      <th>user_id</th>\n",
       "      <th>message_date</th>\n",
       "    </tr>\n",
       "  </thead>\n",
       "  <tbody>\n",
       "    <tr>\n",
       "      <th>0</th>\n",
       "      <td>1000_125</td>\n",
       "      <td>1000</td>\n",
       "      <td>2018-12-27</td>\n",
       "    </tr>\n",
       "    <tr>\n",
       "      <th>1</th>\n",
       "      <td>1000_160</td>\n",
       "      <td>1000</td>\n",
       "      <td>2018-12-31</td>\n",
       "    </tr>\n",
       "    <tr>\n",
       "      <th>2</th>\n",
       "      <td>1000_223</td>\n",
       "      <td>1000</td>\n",
       "      <td>2018-12-31</td>\n",
       "    </tr>\n",
       "    <tr>\n",
       "      <th>3</th>\n",
       "      <td>1000_251</td>\n",
       "      <td>1000</td>\n",
       "      <td>2018-12-27</td>\n",
       "    </tr>\n",
       "    <tr>\n",
       "      <th>4</th>\n",
       "      <td>1000_255</td>\n",
       "      <td>1000</td>\n",
       "      <td>2018-12-26</td>\n",
       "    </tr>\n",
       "  </tbody>\n",
       "</table>\n",
       "</div>"
      ],
      "text/plain": [
       "         id  user_id message_date\n",
       "0  1000_125     1000   2018-12-27\n",
       "1  1000_160     1000   2018-12-31\n",
       "2  1000_223     1000   2018-12-31\n",
       "3  1000_251     1000   2018-12-27\n",
       "4  1000_255     1000   2018-12-26"
      ]
     },
     "execution_count": 29,
     "metadata": {},
     "output_type": "execute_result"
    }
   ],
   "source": [
    "messages.head()"
   ]
  },
  {
   "cell_type": "code",
   "execution_count": 30,
   "id": "8088005b",
   "metadata": {},
   "outputs": [],
   "source": [
    "messages.message_date = messages.message_date.astype('datetime64[M]')"
   ]
  },
  {
   "cell_type": "code",
   "execution_count": 31,
   "id": "87abcf55",
   "metadata": {},
   "outputs": [
    {
     "data": {
      "text/plain": [
       "0"
      ]
     },
     "execution_count": 31,
     "metadata": {},
     "output_type": "execute_result"
    }
   ],
   "source": [
    "messages['user_id'].isna().sum()"
   ]
  },
  {
   "cell_type": "code",
   "execution_count": 32,
   "id": "f3cacf95",
   "metadata": {},
   "outputs": [
    {
     "data": {
      "text/html": [
       "<div>\n",
       "<style scoped>\n",
       "    .dataframe tbody tr th:only-of-type {\n",
       "        vertical-align: middle;\n",
       "    }\n",
       "\n",
       "    .dataframe tbody tr th {\n",
       "        vertical-align: top;\n",
       "    }\n",
       "\n",
       "    .dataframe thead th {\n",
       "        text-align: right;\n",
       "    }\n",
       "</style>\n",
       "<table border=\"1\" class=\"dataframe\">\n",
       "  <thead>\n",
       "    <tr style=\"text-align: right;\">\n",
       "      <th></th>\n",
       "      <th>id</th>\n",
       "      <th>user_id</th>\n",
       "      <th>message_date</th>\n",
       "    </tr>\n",
       "  </thead>\n",
       "  <tbody>\n",
       "  </tbody>\n",
       "</table>\n",
       "</div>"
      ],
      "text/plain": [
       "Empty DataFrame\n",
       "Columns: [id, user_id, message_date]\n",
       "Index: []"
      ]
     },
     "execution_count": 32,
     "metadata": {},
     "output_type": "execute_result"
    }
   ],
   "source": [
    "messages[messages['id'] == 'None']"
   ]
  },
  {
   "cell_type": "code",
   "execution_count": 33,
   "id": "c51cab12",
   "metadata": {},
   "outputs": [
    {
     "data": {
      "text/html": [
       "<div>\n",
       "<style scoped>\n",
       "    .dataframe tbody tr th:only-of-type {\n",
       "        vertical-align: middle;\n",
       "    }\n",
       "\n",
       "    .dataframe tbody tr th {\n",
       "        vertical-align: top;\n",
       "    }\n",
       "\n",
       "    .dataframe thead th {\n",
       "        text-align: right;\n",
       "    }\n",
       "</style>\n",
       "<table border=\"1\" class=\"dataframe\">\n",
       "  <thead>\n",
       "    <tr style=\"text-align: right;\">\n",
       "      <th></th>\n",
       "      <th>id</th>\n",
       "      <th>user_id</th>\n",
       "      <th>message_date</th>\n",
       "    </tr>\n",
       "  </thead>\n",
       "  <tbody>\n",
       "  </tbody>\n",
       "</table>\n",
       "</div>"
      ],
      "text/plain": [
       "Empty DataFrame\n",
       "Columns: [id, user_id, message_date]\n",
       "Index: []"
      ]
     },
     "execution_count": 33,
     "metadata": {},
     "output_type": "execute_result"
    }
   ],
   "source": [
    "messages[messages['message_date'] == 'None']"
   ]
  },
  {
   "cell_type": "code",
   "execution_count": 34,
   "id": "664a6acd",
   "metadata": {},
   "outputs": [
    {
     "data": {
      "text/plain": [
       "0"
      ]
     },
     "execution_count": 34,
     "metadata": {},
     "output_type": "execute_result"
    }
   ],
   "source": [
    "messages.duplicated().sum()"
   ]
  },
  {
   "cell_type": "code",
   "execution_count": 35,
   "id": "b07d346f",
   "metadata": {},
   "outputs": [
    {
     "data": {
      "text/plain": [
       "402"
      ]
     },
     "execution_count": 35,
     "metadata": {},
     "output_type": "execute_result"
    }
   ],
   "source": [
    "len(messages.user_id.unique())"
   ]
  },
  {
   "cell_type": "markdown",
   "id": "00716580",
   "metadata": {},
   "source": [
    "98 users, almost 20% of the reviewed users - don't send SMS's at all."
   ]
  },
  {
   "cell_type": "code",
   "execution_count": null,
   "id": "c8ac89ab",
   "metadata": {},
   "outputs": [],
   "source": [
    "messages.month.value_counts()"
   ]
  },
  {
   "cell_type": "markdown",
   "id": "051ac68e",
   "metadata": {},
   "source": [
    "And again customer usage kept rising"
   ]
  },
  {
   "cell_type": "markdown",
   "id": "4ae13c73",
   "metadata": {},
   "source": [
    "## SMS per Month per User <a id=\"smspmpu\"></a>"
   ]
  },
  {
   "cell_type": "markdown",
   "id": "4d5aed0c",
   "metadata": {},
   "source": [
    "Adding a month column will ease the analysis. `df_sms` is presented as an auxiliary df for displaying sms's per month per user"
   ]
  },
  {
   "cell_type": "code",
   "execution_count": 36,
   "id": "bd565bdc",
   "metadata": {
    "scrolled": true
   },
   "outputs": [
    {
     "data": {
      "text/html": [
       "<div>\n",
       "<style scoped>\n",
       "    .dataframe tbody tr th:only-of-type {\n",
       "        vertical-align: middle;\n",
       "    }\n",
       "\n",
       "    .dataframe tbody tr th {\n",
       "        vertical-align: top;\n",
       "    }\n",
       "\n",
       "    .dataframe thead th {\n",
       "        text-align: right;\n",
       "    }\n",
       "</style>\n",
       "<table border=\"1\" class=\"dataframe\">\n",
       "  <thead>\n",
       "    <tr style=\"text-align: right;\">\n",
       "      <th></th>\n",
       "      <th>user_id</th>\n",
       "      <th>month</th>\n",
       "      <th>sms</th>\n",
       "    </tr>\n",
       "  </thead>\n",
       "  <tbody>\n",
       "    <tr>\n",
       "      <th>0</th>\n",
       "      <td>1000</td>\n",
       "      <td>12</td>\n",
       "      <td>11</td>\n",
       "    </tr>\n",
       "    <tr>\n",
       "      <th>1</th>\n",
       "      <td>1001</td>\n",
       "      <td>8</td>\n",
       "      <td>30</td>\n",
       "    </tr>\n",
       "    <tr>\n",
       "      <th>2</th>\n",
       "      <td>1001</td>\n",
       "      <td>9</td>\n",
       "      <td>44</td>\n",
       "    </tr>\n",
       "    <tr>\n",
       "      <th>3</th>\n",
       "      <td>1001</td>\n",
       "      <td>10</td>\n",
       "      <td>53</td>\n",
       "    </tr>\n",
       "    <tr>\n",
       "      <th>4</th>\n",
       "      <td>1001</td>\n",
       "      <td>11</td>\n",
       "      <td>36</td>\n",
       "    </tr>\n",
       "    <tr>\n",
       "      <th>...</th>\n",
       "      <td>...</td>\n",
       "      <td>...</td>\n",
       "      <td>...</td>\n",
       "    </tr>\n",
       "    <tr>\n",
       "      <th>1801</th>\n",
       "      <td>1496</td>\n",
       "      <td>9</td>\n",
       "      <td>21</td>\n",
       "    </tr>\n",
       "    <tr>\n",
       "      <th>1802</th>\n",
       "      <td>1496</td>\n",
       "      <td>10</td>\n",
       "      <td>18</td>\n",
       "    </tr>\n",
       "    <tr>\n",
       "      <th>1803</th>\n",
       "      <td>1496</td>\n",
       "      <td>11</td>\n",
       "      <td>13</td>\n",
       "    </tr>\n",
       "    <tr>\n",
       "      <th>1804</th>\n",
       "      <td>1496</td>\n",
       "      <td>12</td>\n",
       "      <td>11</td>\n",
       "    </tr>\n",
       "    <tr>\n",
       "      <th>1805</th>\n",
       "      <td>1497</td>\n",
       "      <td>12</td>\n",
       "      <td>50</td>\n",
       "    </tr>\n",
       "  </tbody>\n",
       "</table>\n",
       "<p>1806 rows × 3 columns</p>\n",
       "</div>"
      ],
      "text/plain": [
       "      user_id  month  sms\n",
       "0        1000     12   11\n",
       "1        1001      8   30\n",
       "2        1001      9   44\n",
       "3        1001     10   53\n",
       "4        1001     11   36\n",
       "...       ...    ...  ...\n",
       "1801     1496      9   21\n",
       "1802     1496     10   18\n",
       "1803     1496     11   13\n",
       "1804     1496     12   11\n",
       "1805     1497     12   50\n",
       "\n",
       "[1806 rows x 3 columns]"
      ]
     },
     "execution_count": 36,
     "metadata": {},
     "output_type": "execute_result"
    }
   ],
   "source": [
    "messages['month'] = pd.DatetimeIndex(messages['message_date']).month\n",
    "\n",
    "# get the total messages per month per user\n",
    "df_sms = messages.groupby(['user_id','month'])['id'].count()\n",
    "\n",
    "df_sms = df_sms.to_frame().rename({'id': 'sms'}, axis=1).add_suffix('').reset_index()\n",
    "df_sms"
   ]
  },
  {
   "cell_type": "markdown",
   "id": "1bc68c22",
   "metadata": {},
   "source": [
    "## `plans` <a id=\"plans\"></a>"
   ]
  },
  {
   "cell_type": "code",
   "execution_count": 38,
   "id": "cbadbf6d",
   "metadata": {
    "scrolled": true
   },
   "outputs": [
    {
     "name": "stdout",
     "output_type": "stream",
     "text": [
      "<class 'pandas.core.frame.DataFrame'>\n",
      "RangeIndex: 2 entries, 0 to 1\n",
      "Data columns (total 8 columns):\n",
      " #   Column                 Non-Null Count  Dtype  \n",
      "---  ------                 --------------  -----  \n",
      " 0   messages_included      2 non-null      int64  \n",
      " 1   mb_per_month_included  2 non-null      int64  \n",
      " 2   minutes_included       2 non-null      int64  \n",
      " 3   usd_monthly_pay        2 non-null      int64  \n",
      " 4   usd_per_gb             2 non-null      int64  \n",
      " 5   usd_per_message        2 non-null      float64\n",
      " 6   usd_per_minute         2 non-null      float64\n",
      " 7   plan_name              2 non-null      object \n",
      "dtypes: float64(2), int64(5), object(1)\n",
      "memory usage: 256.0+ bytes\n"
     ]
    }
   ],
   "source": [
    "plans.info()"
   ]
  },
  {
   "cell_type": "code",
   "execution_count": 39,
   "id": "362d88ec",
   "metadata": {},
   "outputs": [
    {
     "data": {
      "text/html": [
       "<div>\n",
       "<style scoped>\n",
       "    .dataframe tbody tr th:only-of-type {\n",
       "        vertical-align: middle;\n",
       "    }\n",
       "\n",
       "    .dataframe tbody tr th {\n",
       "        vertical-align: top;\n",
       "    }\n",
       "\n",
       "    .dataframe thead th {\n",
       "        text-align: right;\n",
       "    }\n",
       "</style>\n",
       "<table border=\"1\" class=\"dataframe\">\n",
       "  <thead>\n",
       "    <tr style=\"text-align: right;\">\n",
       "      <th></th>\n",
       "      <th>messages_included</th>\n",
       "      <th>mb_per_month_included</th>\n",
       "      <th>minutes_included</th>\n",
       "      <th>usd_monthly_pay</th>\n",
       "      <th>usd_per_gb</th>\n",
       "      <th>usd_per_message</th>\n",
       "      <th>usd_per_minute</th>\n",
       "      <th>plan_name</th>\n",
       "    </tr>\n",
       "  </thead>\n",
       "  <tbody>\n",
       "    <tr>\n",
       "      <th>0</th>\n",
       "      <td>50</td>\n",
       "      <td>15360</td>\n",
       "      <td>500</td>\n",
       "      <td>20</td>\n",
       "      <td>10</td>\n",
       "      <td>0.03</td>\n",
       "      <td>0.03</td>\n",
       "      <td>surf</td>\n",
       "    </tr>\n",
       "    <tr>\n",
       "      <th>1</th>\n",
       "      <td>1000</td>\n",
       "      <td>30720</td>\n",
       "      <td>3000</td>\n",
       "      <td>70</td>\n",
       "      <td>7</td>\n",
       "      <td>0.01</td>\n",
       "      <td>0.01</td>\n",
       "      <td>ultimate</td>\n",
       "    </tr>\n",
       "  </tbody>\n",
       "</table>\n",
       "</div>"
      ],
      "text/plain": [
       "   messages_included  mb_per_month_included  minutes_included  \\\n",
       "0                 50                  15360               500   \n",
       "1               1000                  30720              3000   \n",
       "\n",
       "   usd_monthly_pay  usd_per_gb  usd_per_message  usd_per_minute plan_name  \n",
       "0               20          10             0.03            0.03      surf  \n",
       "1               70           7             0.01            0.01  ultimate  "
      ]
     },
     "execution_count": 39,
     "metadata": {},
     "output_type": "execute_result"
    }
   ],
   "source": [
    "plans.head()"
   ]
  },
  {
   "cell_type": "code",
   "execution_count": 40,
   "id": "54a36a58",
   "metadata": {
    "scrolled": true
   },
   "outputs": [],
   "source": [
    "plans.plan_name = plans.plan_name.astype('string')"
   ]
  },
  {
   "cell_type": "markdown",
   "id": "49c383ee",
   "metadata": {},
   "source": [
    "## `users` <a id=\"users\"></a>"
   ]
  },
  {
   "cell_type": "code",
   "execution_count": 41,
   "id": "da68d852",
   "metadata": {},
   "outputs": [
    {
     "name": "stdout",
     "output_type": "stream",
     "text": [
      "<class 'pandas.core.frame.DataFrame'>\n",
      "RangeIndex: 500 entries, 0 to 499\n",
      "Data columns (total 8 columns):\n",
      " #   Column      Non-Null Count  Dtype \n",
      "---  ------      --------------  ----- \n",
      " 0   user_id     500 non-null    int64 \n",
      " 1   first_name  500 non-null    object\n",
      " 2   last_name   500 non-null    object\n",
      " 3   age         500 non-null    int64 \n",
      " 4   city        500 non-null    object\n",
      " 5   reg_date    500 non-null    object\n",
      " 6   plan        500 non-null    object\n",
      " 7   churn_date  34 non-null     object\n",
      "dtypes: int64(2), object(6)\n",
      "memory usage: 31.4+ KB\n"
     ]
    }
   ],
   "source": [
    "users.info()"
   ]
  },
  {
   "cell_type": "code",
   "execution_count": 42,
   "id": "19984b60",
   "metadata": {},
   "outputs": [
    {
     "data": {
      "text/html": [
       "<div>\n",
       "<style scoped>\n",
       "    .dataframe tbody tr th:only-of-type {\n",
       "        vertical-align: middle;\n",
       "    }\n",
       "\n",
       "    .dataframe tbody tr th {\n",
       "        vertical-align: top;\n",
       "    }\n",
       "\n",
       "    .dataframe thead th {\n",
       "        text-align: right;\n",
       "    }\n",
       "</style>\n",
       "<table border=\"1\" class=\"dataframe\">\n",
       "  <thead>\n",
       "    <tr style=\"text-align: right;\">\n",
       "      <th></th>\n",
       "      <th>user_id</th>\n",
       "      <th>first_name</th>\n",
       "      <th>last_name</th>\n",
       "      <th>age</th>\n",
       "      <th>city</th>\n",
       "      <th>reg_date</th>\n",
       "      <th>plan</th>\n",
       "      <th>churn_date</th>\n",
       "    </tr>\n",
       "  </thead>\n",
       "  <tbody>\n",
       "    <tr>\n",
       "      <th>0</th>\n",
       "      <td>1000</td>\n",
       "      <td>Anamaria</td>\n",
       "      <td>Bauer</td>\n",
       "      <td>45</td>\n",
       "      <td>Atlanta-Sandy Springs-Roswell, GA MSA</td>\n",
       "      <td>2018-12-24</td>\n",
       "      <td>ultimate</td>\n",
       "      <td>NaN</td>\n",
       "    </tr>\n",
       "    <tr>\n",
       "      <th>1</th>\n",
       "      <td>1001</td>\n",
       "      <td>Mickey</td>\n",
       "      <td>Wilkerson</td>\n",
       "      <td>28</td>\n",
       "      <td>Seattle-Tacoma-Bellevue, WA MSA</td>\n",
       "      <td>2018-08-13</td>\n",
       "      <td>surf</td>\n",
       "      <td>NaN</td>\n",
       "    </tr>\n",
       "    <tr>\n",
       "      <th>2</th>\n",
       "      <td>1002</td>\n",
       "      <td>Carlee</td>\n",
       "      <td>Hoffman</td>\n",
       "      <td>36</td>\n",
       "      <td>Las Vegas-Henderson-Paradise, NV MSA</td>\n",
       "      <td>2018-10-21</td>\n",
       "      <td>surf</td>\n",
       "      <td>NaN</td>\n",
       "    </tr>\n",
       "    <tr>\n",
       "      <th>3</th>\n",
       "      <td>1003</td>\n",
       "      <td>Reynaldo</td>\n",
       "      <td>Jenkins</td>\n",
       "      <td>52</td>\n",
       "      <td>Tulsa, OK MSA</td>\n",
       "      <td>2018-01-28</td>\n",
       "      <td>surf</td>\n",
       "      <td>NaN</td>\n",
       "    </tr>\n",
       "    <tr>\n",
       "      <th>4</th>\n",
       "      <td>1004</td>\n",
       "      <td>Leonila</td>\n",
       "      <td>Thompson</td>\n",
       "      <td>40</td>\n",
       "      <td>Seattle-Tacoma-Bellevue, WA MSA</td>\n",
       "      <td>2018-05-23</td>\n",
       "      <td>surf</td>\n",
       "      <td>NaN</td>\n",
       "    </tr>\n",
       "  </tbody>\n",
       "</table>\n",
       "</div>"
      ],
      "text/plain": [
       "   user_id first_name  last_name  age                                   city  \\\n",
       "0     1000   Anamaria      Bauer   45  Atlanta-Sandy Springs-Roswell, GA MSA   \n",
       "1     1001     Mickey  Wilkerson   28        Seattle-Tacoma-Bellevue, WA MSA   \n",
       "2     1002     Carlee    Hoffman   36   Las Vegas-Henderson-Paradise, NV MSA   \n",
       "3     1003   Reynaldo    Jenkins   52                          Tulsa, OK MSA   \n",
       "4     1004    Leonila   Thompson   40        Seattle-Tacoma-Bellevue, WA MSA   \n",
       "\n",
       "     reg_date      plan churn_date  \n",
       "0  2018-12-24  ultimate        NaN  \n",
       "1  2018-08-13      surf        NaN  \n",
       "2  2018-10-21      surf        NaN  \n",
       "3  2018-01-28      surf        NaN  \n",
       "4  2018-05-23      surf        NaN  "
      ]
     },
     "execution_count": 42,
     "metadata": {},
     "output_type": "execute_result"
    }
   ],
   "source": [
    "users.head()"
   ]
  },
  {
   "cell_type": "code",
   "execution_count": 44,
   "id": "abccfc23",
   "metadata": {},
   "outputs": [
    {
     "name": "stdout",
     "output_type": "stream",
     "text": [
      "<class 'pandas.core.frame.DataFrame'>\n",
      "RangeIndex: 500 entries, 0 to 499\n",
      "Data columns (total 8 columns):\n",
      " #   Column      Non-Null Count  Dtype         \n",
      "---  ------      --------------  -----         \n",
      " 0   user_id     500 non-null    int64         \n",
      " 1   first_name  500 non-null    string        \n",
      " 2   last_name   500 non-null    string        \n",
      " 3   age         500 non-null    int64         \n",
      " 4   city        500 non-null    string        \n",
      " 5   reg_date    500 non-null    datetime64[ns]\n",
      " 6   plan        500 non-null    string        \n",
      " 7   churn_date  34 non-null     object        \n",
      "dtypes: datetime64[ns](1), int64(2), object(1), string(4)\n",
      "memory usage: 31.4+ KB\n"
     ]
    }
   ],
   "source": [
    "users['reg_date'] = users['reg_date'].astype('datetime64[M]')\n",
    "\n",
    "# changing names to strings\n",
    "users['first_name'] = users['first_name'].astype('string')\n",
    "users['last_name'] = users['last_name'].astype('string')\n",
    "users['plan'] = users['plan'].astype('string')\n",
    "users['city'] = users['city'].astype('string')\n",
    "\n",
    "users.info()"
   ]
  },
  {
   "cell_type": "code",
   "execution_count": 45,
   "id": "9dd1726b",
   "metadata": {},
   "outputs": [
    {
     "data": {
      "text/plain": [
       "0"
      ]
     },
     "execution_count": 45,
     "metadata": {},
     "output_type": "execute_result"
    }
   ],
   "source": [
    "users2 = users.drop(labels='churn_date',axis=1)\n",
    "users2\n",
    "users2.duplicated().sum()"
   ]
  },
  {
   "cell_type": "markdown",
   "id": "bca0e59f",
   "metadata": {},
   "source": [
    "No duplicates"
   ]
  },
  {
   "cell_type": "code",
   "execution_count": 46,
   "id": "a853b601",
   "metadata": {},
   "outputs": [
    {
     "data": {
      "text/plain": [
       "surf        339\n",
       "ultimate    161\n",
       "Name: plan, dtype: Int64"
      ]
     },
     "execution_count": 46,
     "metadata": {},
     "output_type": "execute_result"
    }
   ],
   "source": [
    "users['plan'].value_counts()"
   ]
  },
  {
   "cell_type": "markdown",
   "id": "1de5c75e",
   "metadata": {},
   "source": [
    "Each user has a plan (339+161=500)"
   ]
  },
  {
   "cell_type": "code",
   "execution_count": 47,
   "id": "55076169",
   "metadata": {},
   "outputs": [],
   "source": [
    "users['plancat'] = users['plan'].map(lambda x: 0 if x == 'surf' else 1)"
   ]
  },
  {
   "cell_type": "code",
   "execution_count": 48,
   "id": "1189d001",
   "metadata": {},
   "outputs": [
    {
     "data": {
      "image/png": "[encoded data removed]",
      "text/plain": [
       "<Figure size 432x288 with 1 Axes>"
      ]
     },
     "metadata": {
      "needs_background": "light"
     },
     "output_type": "display_data"
    }
   ],
   "source": [
    "users.hist('plancat', bins=12, range=(0,1))\n",
    "plt.title('0-surf 1-ultimate')\n",
    "plt.ylabel('num of customers')\n",
    "plt.xlabel('billing plan')\n",
    "plt.show()"
   ]
  },
  {
   "cell_type": "markdown",
   "id": "46aa8de2",
   "metadata": {},
   "source": [
    "The histogram illustrates that surf customers are far more common than ultimate customers. For the sake of this analysis, it'll be better if in reality this is the custumer distribution between billing plans. Otherwise, results of this analysis will be 'skewed' towards surf customers and should be treated carefully, remembering the validity of conclusions is more concerned with the surf clients"
   ]
  },
  {
   "cell_type": "code",
   "execution_count": 49,
   "id": "de400c89",
   "metadata": {},
   "outputs": [
    {
     "data": {
      "text/plain": [
       "1     49\n",
       "2     42\n",
       "3     40\n",
       "4     45\n",
       "5     38\n",
       "6     54\n",
       "7     36\n",
       "8     47\n",
       "9     32\n",
       "10    42\n",
       "11    38\n",
       "12    37\n",
       "Name: month, dtype: int64"
      ]
     },
     "execution_count": 49,
     "metadata": {},
     "output_type": "execute_result"
    }
   ],
   "source": [
    "users['month'] = pd.DatetimeIndex(users['reg_date'].astype('datetime64[M]')).month\n",
    "i = users['month'].value_counts().sort_index()\n",
    "i"
   ]
  },
  {
   "cell_type": "markdown",
   "id": "b9ca27d2",
   "metadata": {},
   "source": [
    "Now its clearer. Users gradually joined the company's services at around a fix rate of 40 users per month. So naturally total usage had been rising as well. One thing that's still not clear is that while each of the usage parameters seemed to 'accelerate' as the months passed, the number of registered users went up only linearly"
   ]
  },
  {
   "cell_type": "markdown",
   "id": "182dc649",
   "metadata": {},
   "source": [
    "# Revenue <a id=\"rev\"></a>"
   ]
  },
  {
   "cell_type": "markdown",
   "id": "4421ee16",
   "metadata": {},
   "source": [
    "## Revenue per User per Month <a id=\"revpupm\"></a>"
   ]
  },
  {
   "cell_type": "code",
   "execution_count": 50,
   "id": "fbfc2e69",
   "metadata": {},
   "outputs": [
    {
     "name": "stdout",
     "output_type": "stream",
     "text": [
      "2293\n"
     ]
    },
    {
     "data": {
      "text/html": [
       "<div>\n",
       "<style scoped>\n",
       "    .dataframe tbody tr th:only-of-type {\n",
       "        vertical-align: middle;\n",
       "    }\n",
       "\n",
       "    .dataframe tbody tr th {\n",
       "        vertical-align: top;\n",
       "    }\n",
       "\n",
       "    .dataframe thead th {\n",
       "        text-align: right;\n",
       "    }\n",
       "</style>\n",
       "<table border=\"1\" class=\"dataframe\">\n",
       "  <thead>\n",
       "    <tr style=\"text-align: right;\">\n",
       "      <th></th>\n",
       "      <th>user_id</th>\n",
       "      <th>month</th>\n",
       "      <th>duration</th>\n",
       "      <th>calls</th>\n",
       "      <th>sms</th>\n",
       "      <th>gb</th>\n",
       "    </tr>\n",
       "  </thead>\n",
       "  <tbody>\n",
       "    <tr>\n",
       "      <th>0</th>\n",
       "      <td>1000</td>\n",
       "      <td>12</td>\n",
       "      <td>124.0</td>\n",
       "      <td>16.0</td>\n",
       "      <td>11.0</td>\n",
       "      <td>2.0</td>\n",
       "    </tr>\n",
       "    <tr>\n",
       "      <th>1</th>\n",
       "      <td>1001</td>\n",
       "      <td>8</td>\n",
       "      <td>182.0</td>\n",
       "      <td>27.0</td>\n",
       "      <td>30.0</td>\n",
       "      <td>7.0</td>\n",
       "    </tr>\n",
       "    <tr>\n",
       "      <th>2</th>\n",
       "      <td>1001</td>\n",
       "      <td>9</td>\n",
       "      <td>315.0</td>\n",
       "      <td>49.0</td>\n",
       "      <td>44.0</td>\n",
       "      <td>14.0</td>\n",
       "    </tr>\n",
       "    <tr>\n",
       "      <th>3</th>\n",
       "      <td>1001</td>\n",
       "      <td>10</td>\n",
       "      <td>393.0</td>\n",
       "      <td>65.0</td>\n",
       "      <td>53.0</td>\n",
       "      <td>22.0</td>\n",
       "    </tr>\n",
       "    <tr>\n",
       "      <th>4</th>\n",
       "      <td>1001</td>\n",
       "      <td>11</td>\n",
       "      <td>426.0</td>\n",
       "      <td>64.0</td>\n",
       "      <td>36.0</td>\n",
       "      <td>19.0</td>\n",
       "    </tr>\n",
       "    <tr>\n",
       "      <th>...</th>\n",
       "      <td>...</td>\n",
       "      <td>...</td>\n",
       "      <td>...</td>\n",
       "      <td>...</td>\n",
       "      <td>...</td>\n",
       "      <td>...</td>\n",
       "    </tr>\n",
       "    <tr>\n",
       "      <th>2288</th>\n",
       "      <td>1349</td>\n",
       "      <td>12</td>\n",
       "      <td>0.0</td>\n",
       "      <td>0.0</td>\n",
       "      <td>61.0</td>\n",
       "      <td>13.0</td>\n",
       "    </tr>\n",
       "    <tr>\n",
       "      <th>2289</th>\n",
       "      <td>1361</td>\n",
       "      <td>5</td>\n",
       "      <td>0.0</td>\n",
       "      <td>0.0</td>\n",
       "      <td>2.0</td>\n",
       "      <td>2.0</td>\n",
       "    </tr>\n",
       "    <tr>\n",
       "      <th>2290</th>\n",
       "      <td>1482</td>\n",
       "      <td>10</td>\n",
       "      <td>0.0</td>\n",
       "      <td>0.0</td>\n",
       "      <td>2.0</td>\n",
       "      <td>0.0</td>\n",
       "    </tr>\n",
       "    <tr>\n",
       "      <th>2291</th>\n",
       "      <td>1108</td>\n",
       "      <td>12</td>\n",
       "      <td>0.0</td>\n",
       "      <td>0.0</td>\n",
       "      <td>0.0</td>\n",
       "      <td>1.0</td>\n",
       "    </tr>\n",
       "    <tr>\n",
       "      <th>2292</th>\n",
       "      <td>1311</td>\n",
       "      <td>6</td>\n",
       "      <td>0.0</td>\n",
       "      <td>0.0</td>\n",
       "      <td>0.0</td>\n",
       "      <td>2.0</td>\n",
       "    </tr>\n",
       "  </tbody>\n",
       "</table>\n",
       "<p>2293 rows × 6 columns</p>\n",
       "</div>"
      ],
      "text/plain": [
       "      user_id  month  duration  calls   sms    gb\n",
       "0        1000     12     124.0   16.0  11.0   2.0\n",
       "1        1001      8     182.0   27.0  30.0   7.0\n",
       "2        1001      9     315.0   49.0  44.0  14.0\n",
       "3        1001     10     393.0   65.0  53.0  22.0\n",
       "4        1001     11     426.0   64.0  36.0  19.0\n",
       "...       ...    ...       ...    ...   ...   ...\n",
       "2288     1349     12       0.0    0.0  61.0  13.0\n",
       "2289     1361      5       0.0    0.0   2.0   2.0\n",
       "2290     1482     10       0.0    0.0   2.0   0.0\n",
       "2291     1108     12       0.0    0.0   0.0   1.0\n",
       "2292     1311      6       0.0    0.0   0.0   2.0\n",
       "\n",
       "[2293 rows x 6 columns]"
      ]
     },
     "execution_count": 50,
     "metadata": {},
     "output_type": "execute_result"
    }
   ],
   "source": [
    "data_frames = [df_calls,df_sms,df_data]\n",
    "chart = reduce(lambda left,right: pd.merge(left,right,on=['user_id','month'],how='outer'),data_frames).fillna(0)\n",
    "print(len(chart))\n",
    "chart"
   ]
  },
  {
   "cell_type": "code",
   "execution_count": 51,
   "id": "36e64102",
   "metadata": {},
   "outputs": [
    {
     "name": "stdout",
     "output_type": "stream",
     "text": [
      "490\n",
      "500\n"
     ]
    }
   ],
   "source": [
    "print(len(chart.user_id.unique()))\n",
    "chart = pd.merge(left = chart, right = users[['user_id','plan','city']], how='outer',on='user_id').fillna(0)\n",
    "print(len(chart.user_id.unique()))\n",
    "# it appears 10 users didn't use their phone at all. otherwise they would've been in the chart before the latter \n",
    "# merging took place.\n",
    "# users contains data on all the 500 users"
   ]
  },
  {
   "cell_type": "code",
   "execution_count": 52,
   "id": "c10e2b3a",
   "metadata": {},
   "outputs": [
    {
     "data": {
      "text/html": [
       "<div>\n",
       "<style scoped>\n",
       "    .dataframe tbody tr th:only-of-type {\n",
       "        vertical-align: middle;\n",
       "    }\n",
       "\n",
       "    .dataframe tbody tr th {\n",
       "        vertical-align: top;\n",
       "    }\n",
       "\n",
       "    .dataframe thead th {\n",
       "        text-align: right;\n",
       "    }\n",
       "</style>\n",
       "<table border=\"1\" class=\"dataframe\">\n",
       "  <thead>\n",
       "    <tr style=\"text-align: right;\">\n",
       "      <th></th>\n",
       "      <th>user_id</th>\n",
       "      <th>month</th>\n",
       "      <th>duration</th>\n",
       "      <th>calls</th>\n",
       "      <th>sms</th>\n",
       "      <th>gb</th>\n",
       "      <th>plan</th>\n",
       "      <th>city</th>\n",
       "    </tr>\n",
       "  </thead>\n",
       "  <tbody>\n",
       "    <tr>\n",
       "      <th>0</th>\n",
       "      <td>1000</td>\n",
       "      <td>12.0</td>\n",
       "      <td>124.0</td>\n",
       "      <td>16.0</td>\n",
       "      <td>11.0</td>\n",
       "      <td>2.0</td>\n",
       "      <td>ultimate</td>\n",
       "      <td>Atlanta-Sandy Springs-Roswell, GA MSA</td>\n",
       "    </tr>\n",
       "    <tr>\n",
       "      <th>1</th>\n",
       "      <td>1001</td>\n",
       "      <td>8.0</td>\n",
       "      <td>182.0</td>\n",
       "      <td>27.0</td>\n",
       "      <td>30.0</td>\n",
       "      <td>7.0</td>\n",
       "      <td>surf</td>\n",
       "      <td>Seattle-Tacoma-Bellevue, WA MSA</td>\n",
       "    </tr>\n",
       "    <tr>\n",
       "      <th>2</th>\n",
       "      <td>1001</td>\n",
       "      <td>9.0</td>\n",
       "      <td>315.0</td>\n",
       "      <td>49.0</td>\n",
       "      <td>44.0</td>\n",
       "      <td>14.0</td>\n",
       "      <td>surf</td>\n",
       "      <td>Seattle-Tacoma-Bellevue, WA MSA</td>\n",
       "    </tr>\n",
       "    <tr>\n",
       "      <th>3</th>\n",
       "      <td>1001</td>\n",
       "      <td>10.0</td>\n",
       "      <td>393.0</td>\n",
       "      <td>65.0</td>\n",
       "      <td>53.0</td>\n",
       "      <td>22.0</td>\n",
       "      <td>surf</td>\n",
       "      <td>Seattle-Tacoma-Bellevue, WA MSA</td>\n",
       "    </tr>\n",
       "    <tr>\n",
       "      <th>4</th>\n",
       "      <td>1001</td>\n",
       "      <td>11.0</td>\n",
       "      <td>426.0</td>\n",
       "      <td>64.0</td>\n",
       "      <td>36.0</td>\n",
       "      <td>19.0</td>\n",
       "      <td>surf</td>\n",
       "      <td>Seattle-Tacoma-Bellevue, WA MSA</td>\n",
       "    </tr>\n",
       "    <tr>\n",
       "      <th>...</th>\n",
       "      <td>...</td>\n",
       "      <td>...</td>\n",
       "      <td>...</td>\n",
       "      <td>...</td>\n",
       "      <td>...</td>\n",
       "      <td>...</td>\n",
       "      <td>...</td>\n",
       "      <td>...</td>\n",
       "    </tr>\n",
       "    <tr>\n",
       "      <th>2298</th>\n",
       "      <td>1307</td>\n",
       "      <td>0.0</td>\n",
       "      <td>0.0</td>\n",
       "      <td>0.0</td>\n",
       "      <td>0.0</td>\n",
       "      <td>0.0</td>\n",
       "      <td>surf</td>\n",
       "      <td>Boston-Cambridge-Newton, MA-NH MSA</td>\n",
       "    </tr>\n",
       "    <tr>\n",
       "      <th>2299</th>\n",
       "      <td>1319</td>\n",
       "      <td>0.0</td>\n",
       "      <td>0.0</td>\n",
       "      <td>0.0</td>\n",
       "      <td>0.0</td>\n",
       "      <td>0.0</td>\n",
       "      <td>surf</td>\n",
       "      <td>Colorado Springs, CO MSA</td>\n",
       "    </tr>\n",
       "    <tr>\n",
       "      <th>2300</th>\n",
       "      <td>1378</td>\n",
       "      <td>0.0</td>\n",
       "      <td>0.0</td>\n",
       "      <td>0.0</td>\n",
       "      <td>0.0</td>\n",
       "      <td>0.0</td>\n",
       "      <td>surf</td>\n",
       "      <td>Denver-Aurora-Lakewood, CO MSA</td>\n",
       "    </tr>\n",
       "    <tr>\n",
       "      <th>2301</th>\n",
       "      <td>1463</td>\n",
       "      <td>0.0</td>\n",
       "      <td>0.0</td>\n",
       "      <td>0.0</td>\n",
       "      <td>0.0</td>\n",
       "      <td>0.0</td>\n",
       "      <td>ultimate</td>\n",
       "      <td>Atlanta-Sandy Springs-Roswell, GA MSA</td>\n",
       "    </tr>\n",
       "    <tr>\n",
       "      <th>2302</th>\n",
       "      <td>1473</td>\n",
       "      <td>0.0</td>\n",
       "      <td>0.0</td>\n",
       "      <td>0.0</td>\n",
       "      <td>0.0</td>\n",
       "      <td>0.0</td>\n",
       "      <td>surf</td>\n",
       "      <td>Louisville/Jefferson County, KY-IN MSA</td>\n",
       "    </tr>\n",
       "  </tbody>\n",
       "</table>\n",
       "<p>2303 rows × 8 columns</p>\n",
       "</div>"
      ],
      "text/plain": [
       "      user_id  month  duration  calls   sms    gb      plan  \\\n",
       "0        1000   12.0     124.0   16.0  11.0   2.0  ultimate   \n",
       "1        1001    8.0     182.0   27.0  30.0   7.0      surf   \n",
       "2        1001    9.0     315.0   49.0  44.0  14.0      surf   \n",
       "3        1001   10.0     393.0   65.0  53.0  22.0      surf   \n",
       "4        1001   11.0     426.0   64.0  36.0  19.0      surf   \n",
       "...       ...    ...       ...    ...   ...   ...       ...   \n",
       "2298     1307    0.0       0.0    0.0   0.0   0.0      surf   \n",
       "2299     1319    0.0       0.0    0.0   0.0   0.0      surf   \n",
       "2300     1378    0.0       0.0    0.0   0.0   0.0      surf   \n",
       "2301     1463    0.0       0.0    0.0   0.0   0.0  ultimate   \n",
       "2302     1473    0.0       0.0    0.0   0.0   0.0      surf   \n",
       "\n",
       "                                        city  \n",
       "0      Atlanta-Sandy Springs-Roswell, GA MSA  \n",
       "1            Seattle-Tacoma-Bellevue, WA MSA  \n",
       "2            Seattle-Tacoma-Bellevue, WA MSA  \n",
       "3            Seattle-Tacoma-Bellevue, WA MSA  \n",
       "4            Seattle-Tacoma-Bellevue, WA MSA  \n",
       "...                                      ...  \n",
       "2298      Boston-Cambridge-Newton, MA-NH MSA  \n",
       "2299                Colorado Springs, CO MSA  \n",
       "2300          Denver-Aurora-Lakewood, CO MSA  \n",
       "2301   Atlanta-Sandy Springs-Roswell, GA MSA  \n",
       "2302  Louisville/Jefferson County, KY-IN MSA  \n",
       "\n",
       "[2303 rows x 8 columns]"
      ]
     },
     "execution_count": 52,
     "metadata": {},
     "output_type": "execute_result"
    }
   ],
   "source": [
    "chart"
   ]
  },
  {
   "cell_type": "code",
   "execution_count": 53,
   "id": "f5918709",
   "metadata": {},
   "outputs": [
    {
     "data": {
      "text/html": [
       "<div>\n",
       "<style scoped>\n",
       "    .dataframe tbody tr th:only-of-type {\n",
       "        vertical-align: middle;\n",
       "    }\n",
       "\n",
       "    .dataframe tbody tr th {\n",
       "        vertical-align: top;\n",
       "    }\n",
       "\n",
       "    .dataframe thead th {\n",
       "        text-align: right;\n",
       "    }\n",
       "</style>\n",
       "<table border=\"1\" class=\"dataframe\">\n",
       "  <thead>\n",
       "    <tr style=\"text-align: right;\">\n",
       "      <th></th>\n",
       "      <th>user_id</th>\n",
       "      <th>month</th>\n",
       "      <th>duration</th>\n",
       "      <th>calls</th>\n",
       "      <th>sms</th>\n",
       "      <th>gb</th>\n",
       "      <th>plan</th>\n",
       "      <th>city</th>\n",
       "    </tr>\n",
       "  </thead>\n",
       "  <tbody>\n",
       "    <tr>\n",
       "      <th>0</th>\n",
       "      <td>1000</td>\n",
       "      <td>12</td>\n",
       "      <td>124</td>\n",
       "      <td>16</td>\n",
       "      <td>11</td>\n",
       "      <td>2</td>\n",
       "      <td>ultimate</td>\n",
       "      <td>Atlanta-Sandy Springs-Roswell, GA MSA</td>\n",
       "    </tr>\n",
       "    <tr>\n",
       "      <th>1</th>\n",
       "      <td>1001</td>\n",
       "      <td>8</td>\n",
       "      <td>182</td>\n",
       "      <td>27</td>\n",
       "      <td>30</td>\n",
       "      <td>7</td>\n",
       "      <td>surf</td>\n",
       "      <td>Seattle-Tacoma-Bellevue, WA MSA</td>\n",
       "    </tr>\n",
       "    <tr>\n",
       "      <th>2</th>\n",
       "      <td>1001</td>\n",
       "      <td>9</td>\n",
       "      <td>315</td>\n",
       "      <td>49</td>\n",
       "      <td>44</td>\n",
       "      <td>14</td>\n",
       "      <td>surf</td>\n",
       "      <td>Seattle-Tacoma-Bellevue, WA MSA</td>\n",
       "    </tr>\n",
       "    <tr>\n",
       "      <th>3</th>\n",
       "      <td>1001</td>\n",
       "      <td>10</td>\n",
       "      <td>393</td>\n",
       "      <td>65</td>\n",
       "      <td>53</td>\n",
       "      <td>22</td>\n",
       "      <td>surf</td>\n",
       "      <td>Seattle-Tacoma-Bellevue, WA MSA</td>\n",
       "    </tr>\n",
       "    <tr>\n",
       "      <th>4</th>\n",
       "      <td>1001</td>\n",
       "      <td>11</td>\n",
       "      <td>426</td>\n",
       "      <td>64</td>\n",
       "      <td>36</td>\n",
       "      <td>19</td>\n",
       "      <td>surf</td>\n",
       "      <td>Seattle-Tacoma-Bellevue, WA MSA</td>\n",
       "    </tr>\n",
       "    <tr>\n",
       "      <th>...</th>\n",
       "      <td>...</td>\n",
       "      <td>...</td>\n",
       "      <td>...</td>\n",
       "      <td>...</td>\n",
       "      <td>...</td>\n",
       "      <td>...</td>\n",
       "      <td>...</td>\n",
       "      <td>...</td>\n",
       "    </tr>\n",
       "    <tr>\n",
       "      <th>2298</th>\n",
       "      <td>1307</td>\n",
       "      <td>0</td>\n",
       "      <td>0</td>\n",
       "      <td>0</td>\n",
       "      <td>0</td>\n",
       "      <td>0</td>\n",
       "      <td>surf</td>\n",
       "      <td>Boston-Cambridge-Newton, MA-NH MSA</td>\n",
       "    </tr>\n",
       "    <tr>\n",
       "      <th>2299</th>\n",
       "      <td>1319</td>\n",
       "      <td>0</td>\n",
       "      <td>0</td>\n",
       "      <td>0</td>\n",
       "      <td>0</td>\n",
       "      <td>0</td>\n",
       "      <td>surf</td>\n",
       "      <td>Colorado Springs, CO MSA</td>\n",
       "    </tr>\n",
       "    <tr>\n",
       "      <th>2300</th>\n",
       "      <td>1378</td>\n",
       "      <td>0</td>\n",
       "      <td>0</td>\n",
       "      <td>0</td>\n",
       "      <td>0</td>\n",
       "      <td>0</td>\n",
       "      <td>surf</td>\n",
       "      <td>Denver-Aurora-Lakewood, CO MSA</td>\n",
       "    </tr>\n",
       "    <tr>\n",
       "      <th>2301</th>\n",
       "      <td>1463</td>\n",
       "      <td>0</td>\n",
       "      <td>0</td>\n",
       "      <td>0</td>\n",
       "      <td>0</td>\n",
       "      <td>0</td>\n",
       "      <td>ultimate</td>\n",
       "      <td>Atlanta-Sandy Springs-Roswell, GA MSA</td>\n",
       "    </tr>\n",
       "    <tr>\n",
       "      <th>2302</th>\n",
       "      <td>1473</td>\n",
       "      <td>0</td>\n",
       "      <td>0</td>\n",
       "      <td>0</td>\n",
       "      <td>0</td>\n",
       "      <td>0</td>\n",
       "      <td>surf</td>\n",
       "      <td>Louisville/Jefferson County, KY-IN MSA</td>\n",
       "    </tr>\n",
       "  </tbody>\n",
       "</table>\n",
       "<p>2303 rows × 8 columns</p>\n",
       "</div>"
      ],
      "text/plain": [
       "      user_id  month  duration  calls  sms  gb      plan  \\\n",
       "0        1000     12       124     16   11   2  ultimate   \n",
       "1        1001      8       182     27   30   7      surf   \n",
       "2        1001      9       315     49   44  14      surf   \n",
       "3        1001     10       393     65   53  22      surf   \n",
       "4        1001     11       426     64   36  19      surf   \n",
       "...       ...    ...       ...    ...  ...  ..       ...   \n",
       "2298     1307      0         0      0    0   0      surf   \n",
       "2299     1319      0         0      0    0   0      surf   \n",
       "2300     1378      0         0      0    0   0      surf   \n",
       "2301     1463      0         0      0    0   0  ultimate   \n",
       "2302     1473      0         0      0    0   0      surf   \n",
       "\n",
       "                                        city  \n",
       "0      Atlanta-Sandy Springs-Roswell, GA MSA  \n",
       "1            Seattle-Tacoma-Bellevue, WA MSA  \n",
       "2            Seattle-Tacoma-Bellevue, WA MSA  \n",
       "3            Seattle-Tacoma-Bellevue, WA MSA  \n",
       "4            Seattle-Tacoma-Bellevue, WA MSA  \n",
       "...                                      ...  \n",
       "2298      Boston-Cambridge-Newton, MA-NH MSA  \n",
       "2299                Colorado Springs, CO MSA  \n",
       "2300          Denver-Aurora-Lakewood, CO MSA  \n",
       "2301   Atlanta-Sandy Springs-Roswell, GA MSA  \n",
       "2302  Louisville/Jefferson County, KY-IN MSA  \n",
       "\n",
       "[2303 rows x 8 columns]"
      ]
     },
     "execution_count": 53,
     "metadata": {},
     "output_type": "execute_result"
    }
   ],
   "source": [
    "# for some reason ints turned to floats\n",
    "for col in ['month','duration','calls','sms','gb']:\n",
    "    chart[col] = chart[col].astype('int64')\n",
    "chart"
   ]
  },
  {
   "cell_type": "code",
   "execution_count": 54,
   "id": "a995be2a",
   "metadata": {},
   "outputs": [
    {
     "data": {
      "text/html": [
       "<div>\n",
       "<style scoped>\n",
       "    .dataframe tbody tr th:only-of-type {\n",
       "        vertical-align: middle;\n",
       "    }\n",
       "\n",
       "    .dataframe tbody tr th {\n",
       "        vertical-align: top;\n",
       "    }\n",
       "\n",
       "    .dataframe thead th {\n",
       "        text-align: right;\n",
       "    }\n",
       "</style>\n",
       "<table border=\"1\" class=\"dataframe\">\n",
       "  <thead>\n",
       "    <tr style=\"text-align: right;\">\n",
       "      <th></th>\n",
       "      <th>user_id</th>\n",
       "      <th>month</th>\n",
       "      <th>duration</th>\n",
       "      <th>calls</th>\n",
       "      <th>sms</th>\n",
       "      <th>gb</th>\n",
       "      <th>plan</th>\n",
       "      <th>city</th>\n",
       "    </tr>\n",
       "  </thead>\n",
       "  <tbody>\n",
       "    <tr>\n",
       "      <th>2283</th>\n",
       "      <td>1194</td>\n",
       "      <td>9</td>\n",
       "      <td>0</td>\n",
       "      <td>0</td>\n",
       "      <td>76</td>\n",
       "      <td>37</td>\n",
       "      <td>surf</td>\n",
       "      <td>San Jose-Sunnyvale-Santa Clara, CA MSA</td>\n",
       "    </tr>\n",
       "    <tr>\n",
       "      <th>2284</th>\n",
       "      <td>1194</td>\n",
       "      <td>10</td>\n",
       "      <td>0</td>\n",
       "      <td>0</td>\n",
       "      <td>88</td>\n",
       "      <td>31</td>\n",
       "      <td>surf</td>\n",
       "      <td>San Jose-Sunnyvale-Santa Clara, CA MSA</td>\n",
       "    </tr>\n",
       "    <tr>\n",
       "      <th>2285</th>\n",
       "      <td>1194</td>\n",
       "      <td>11</td>\n",
       "      <td>0</td>\n",
       "      <td>0</td>\n",
       "      <td>62</td>\n",
       "      <td>42</td>\n",
       "      <td>surf</td>\n",
       "      <td>San Jose-Sunnyvale-Santa Clara, CA MSA</td>\n",
       "    </tr>\n",
       "    <tr>\n",
       "      <th>2286</th>\n",
       "      <td>1194</td>\n",
       "      <td>12</td>\n",
       "      <td>0</td>\n",
       "      <td>0</td>\n",
       "      <td>56</td>\n",
       "      <td>31</td>\n",
       "      <td>surf</td>\n",
       "      <td>San Jose-Sunnyvale-Santa Clara, CA MSA</td>\n",
       "    </tr>\n",
       "    <tr>\n",
       "      <th>2287</th>\n",
       "      <td>1204</td>\n",
       "      <td>11</td>\n",
       "      <td>0</td>\n",
       "      <td>0</td>\n",
       "      <td>42</td>\n",
       "      <td>21</td>\n",
       "      <td>ultimate</td>\n",
       "      <td>Chicago-Naperville-Elgin, IL-IN-WI MSA</td>\n",
       "    </tr>\n",
       "    <tr>\n",
       "      <th>2288</th>\n",
       "      <td>1204</td>\n",
       "      <td>12</td>\n",
       "      <td>0</td>\n",
       "      <td>0</td>\n",
       "      <td>78</td>\n",
       "      <td>36</td>\n",
       "      <td>ultimate</td>\n",
       "      <td>Chicago-Naperville-Elgin, IL-IN-WI MSA</td>\n",
       "    </tr>\n",
       "    <tr>\n",
       "      <th>2289</th>\n",
       "      <td>1349</td>\n",
       "      <td>10</td>\n",
       "      <td>0</td>\n",
       "      <td>0</td>\n",
       "      <td>76</td>\n",
       "      <td>13</td>\n",
       "      <td>surf</td>\n",
       "      <td>Boston-Cambridge-Newton, MA-NH MSA</td>\n",
       "    </tr>\n",
       "    <tr>\n",
       "      <th>2290</th>\n",
       "      <td>1349</td>\n",
       "      <td>11</td>\n",
       "      <td>0</td>\n",
       "      <td>0</td>\n",
       "      <td>72</td>\n",
       "      <td>17</td>\n",
       "      <td>surf</td>\n",
       "      <td>Boston-Cambridge-Newton, MA-NH MSA</td>\n",
       "    </tr>\n",
       "    <tr>\n",
       "      <th>2291</th>\n",
       "      <td>1349</td>\n",
       "      <td>12</td>\n",
       "      <td>0</td>\n",
       "      <td>0</td>\n",
       "      <td>61</td>\n",
       "      <td>13</td>\n",
       "      <td>surf</td>\n",
       "      <td>Boston-Cambridge-Newton, MA-NH MSA</td>\n",
       "    </tr>\n",
       "    <tr>\n",
       "      <th>2292</th>\n",
       "      <td>1108</td>\n",
       "      <td>12</td>\n",
       "      <td>0</td>\n",
       "      <td>0</td>\n",
       "      <td>0</td>\n",
       "      <td>1</td>\n",
       "      <td>ultimate</td>\n",
       "      <td>Salt Lake City, UT MSA</td>\n",
       "    </tr>\n",
       "    <tr>\n",
       "      <th>2293</th>\n",
       "      <td>1025</td>\n",
       "      <td>0</td>\n",
       "      <td>0</td>\n",
       "      <td>0</td>\n",
       "      <td>0</td>\n",
       "      <td>0</td>\n",
       "      <td>ultimate</td>\n",
       "      <td>Atlanta-Sandy Springs-Roswell, GA MSA</td>\n",
       "    </tr>\n",
       "    <tr>\n",
       "      <th>2294</th>\n",
       "      <td>1129</td>\n",
       "      <td>0</td>\n",
       "      <td>0</td>\n",
       "      <td>0</td>\n",
       "      <td>0</td>\n",
       "      <td>0</td>\n",
       "      <td>surf</td>\n",
       "      <td>Baton Rouge, LA MSA</td>\n",
       "    </tr>\n",
       "    <tr>\n",
       "      <th>2295</th>\n",
       "      <td>1143</td>\n",
       "      <td>0</td>\n",
       "      <td>0</td>\n",
       "      <td>0</td>\n",
       "      <td>0</td>\n",
       "      <td>0</td>\n",
       "      <td>surf</td>\n",
       "      <td>Cincinnati, OH-KY-IN MSA</td>\n",
       "    </tr>\n",
       "    <tr>\n",
       "      <th>2296</th>\n",
       "      <td>1269</td>\n",
       "      <td>0</td>\n",
       "      <td>0</td>\n",
       "      <td>0</td>\n",
       "      <td>0</td>\n",
       "      <td>0</td>\n",
       "      <td>ultimate</td>\n",
       "      <td>Dallas-Fort Worth-Arlington, TX MSA</td>\n",
       "    </tr>\n",
       "    <tr>\n",
       "      <th>2297</th>\n",
       "      <td>1275</td>\n",
       "      <td>0</td>\n",
       "      <td>0</td>\n",
       "      <td>0</td>\n",
       "      <td>0</td>\n",
       "      <td>0</td>\n",
       "      <td>ultimate</td>\n",
       "      <td>New York-Newark-Jersey City, NY-NJ-PA MSA</td>\n",
       "    </tr>\n",
       "    <tr>\n",
       "      <th>2298</th>\n",
       "      <td>1307</td>\n",
       "      <td>0</td>\n",
       "      <td>0</td>\n",
       "      <td>0</td>\n",
       "      <td>0</td>\n",
       "      <td>0</td>\n",
       "      <td>surf</td>\n",
       "      <td>Boston-Cambridge-Newton, MA-NH MSA</td>\n",
       "    </tr>\n",
       "    <tr>\n",
       "      <th>2299</th>\n",
       "      <td>1319</td>\n",
       "      <td>0</td>\n",
       "      <td>0</td>\n",
       "      <td>0</td>\n",
       "      <td>0</td>\n",
       "      <td>0</td>\n",
       "      <td>surf</td>\n",
       "      <td>Colorado Springs, CO MSA</td>\n",
       "    </tr>\n",
       "    <tr>\n",
       "      <th>2300</th>\n",
       "      <td>1378</td>\n",
       "      <td>0</td>\n",
       "      <td>0</td>\n",
       "      <td>0</td>\n",
       "      <td>0</td>\n",
       "      <td>0</td>\n",
       "      <td>surf</td>\n",
       "      <td>Denver-Aurora-Lakewood, CO MSA</td>\n",
       "    </tr>\n",
       "    <tr>\n",
       "      <th>2301</th>\n",
       "      <td>1463</td>\n",
       "      <td>0</td>\n",
       "      <td>0</td>\n",
       "      <td>0</td>\n",
       "      <td>0</td>\n",
       "      <td>0</td>\n",
       "      <td>ultimate</td>\n",
       "      <td>Atlanta-Sandy Springs-Roswell, GA MSA</td>\n",
       "    </tr>\n",
       "    <tr>\n",
       "      <th>2302</th>\n",
       "      <td>1473</td>\n",
       "      <td>0</td>\n",
       "      <td>0</td>\n",
       "      <td>0</td>\n",
       "      <td>0</td>\n",
       "      <td>0</td>\n",
       "      <td>surf</td>\n",
       "      <td>Louisville/Jefferson County, KY-IN MSA</td>\n",
       "    </tr>\n",
       "  </tbody>\n",
       "</table>\n",
       "</div>"
      ],
      "text/plain": [
       "      user_id  month  duration  calls  sms  gb      plan  \\\n",
       "2283     1194      9         0      0   76  37      surf   \n",
       "2284     1194     10         0      0   88  31      surf   \n",
       "2285     1194     11         0      0   62  42      surf   \n",
       "2286     1194     12         0      0   56  31      surf   \n",
       "2287     1204     11         0      0   42  21  ultimate   \n",
       "2288     1204     12         0      0   78  36  ultimate   \n",
       "2289     1349     10         0      0   76  13      surf   \n",
       "2290     1349     11         0      0   72  17      surf   \n",
       "2291     1349     12         0      0   61  13      surf   \n",
       "2292     1108     12         0      0    0   1  ultimate   \n",
       "2293     1025      0         0      0    0   0  ultimate   \n",
       "2294     1129      0         0      0    0   0      surf   \n",
       "2295     1143      0         0      0    0   0      surf   \n",
       "2296     1269      0         0      0    0   0  ultimate   \n",
       "2297     1275      0         0      0    0   0  ultimate   \n",
       "2298     1307      0         0      0    0   0      surf   \n",
       "2299     1319      0         0      0    0   0      surf   \n",
       "2300     1378      0         0      0    0   0      surf   \n",
       "2301     1463      0         0      0    0   0  ultimate   \n",
       "2302     1473      0         0      0    0   0      surf   \n",
       "\n",
       "                                           city  \n",
       "2283     San Jose-Sunnyvale-Santa Clara, CA MSA  \n",
       "2284     San Jose-Sunnyvale-Santa Clara, CA MSA  \n",
       "2285     San Jose-Sunnyvale-Santa Clara, CA MSA  \n",
       "2286     San Jose-Sunnyvale-Santa Clara, CA MSA  \n",
       "2287     Chicago-Naperville-Elgin, IL-IN-WI MSA  \n",
       "2288     Chicago-Naperville-Elgin, IL-IN-WI MSA  \n",
       "2289         Boston-Cambridge-Newton, MA-NH MSA  \n",
       "2290         Boston-Cambridge-Newton, MA-NH MSA  \n",
       "2291         Boston-Cambridge-Newton, MA-NH MSA  \n",
       "2292                     Salt Lake City, UT MSA  \n",
       "2293      Atlanta-Sandy Springs-Roswell, GA MSA  \n",
       "2294                        Baton Rouge, LA MSA  \n",
       "2295                   Cincinnati, OH-KY-IN MSA  \n",
       "2296        Dallas-Fort Worth-Arlington, TX MSA  \n",
       "2297  New York-Newark-Jersey City, NY-NJ-PA MSA  \n",
       "2298         Boston-Cambridge-Newton, MA-NH MSA  \n",
       "2299                   Colorado Springs, CO MSA  \n",
       "2300             Denver-Aurora-Lakewood, CO MSA  \n",
       "2301      Atlanta-Sandy Springs-Roswell, GA MSA  \n",
       "2302     Louisville/Jefferson County, KY-IN MSA  "
      ]
     },
     "execution_count": 54,
     "metadata": {},
     "output_type": "execute_result"
    }
   ],
   "source": [
    "chart.tail(20)"
   ]
  },
  {
   "cell_type": "markdown",
   "id": "d9336f90",
   "metadata": {},
   "source": [
    "indeed the table makes sense, only last 10 rows are completely empty"
   ]
  },
  {
   "cell_type": "markdown",
   "id": "dfe00c9c",
   "metadata": {},
   "source": [
    "## Cost Function <a id=\"cf\"></a>"
   ]
  },
  {
   "cell_type": "code",
   "execution_count": 55,
   "id": "942058f0",
   "metadata": {},
   "outputs": [],
   "source": [
    "def cost(row):\n",
    "    duration=row['duration']\n",
    "    sms = row['sms']\n",
    "    gb = row['gb']\n",
    "    plan = row['plan']\n",
    "    if plan == 'ultimate':\n",
    "        fee = 70\n",
    "        if duration > 3000:\n",
    "            fee += (duration - 3000) * 0.01\n",
    "        if sms > 1000:\n",
    "            fee += (sms - 1000) * 0.01\n",
    "        if gb > 30:\n",
    "            fee += (gb - 30) * 7\n",
    "    elif plan == 'surf':\n",
    "        fee = 20\n",
    "        if duration > 500:\n",
    "            fee += (duration - 500) * 0.03\n",
    "        if sms > 50:\n",
    "            fee += (sms - 50) * 0.03\n",
    "        if gb > 15:\n",
    "            fee += (gb - 15) * 10\n",
    "    \n",
    "    return fee"
   ]
  },
  {
   "cell_type": "markdown",
   "id": "975a61ff",
   "metadata": {},
   "source": [
    "## Revenue Table <a id=\"rvtbl\"></a>"
   ]
  },
  {
   "cell_type": "code",
   "execution_count": 56,
   "id": "47430059",
   "metadata": {},
   "outputs": [
    {
     "data": {
      "text/html": [
       "<div>\n",
       "<style scoped>\n",
       "    .dataframe tbody tr th:only-of-type {\n",
       "        vertical-align: middle;\n",
       "    }\n",
       "\n",
       "    .dataframe tbody tr th {\n",
       "        vertical-align: top;\n",
       "    }\n",
       "\n",
       "    .dataframe thead th {\n",
       "        text-align: right;\n",
       "    }\n",
       "</style>\n",
       "<table border=\"1\" class=\"dataframe\">\n",
       "  <thead>\n",
       "    <tr style=\"text-align: right;\">\n",
       "      <th></th>\n",
       "      <th>user_id</th>\n",
       "      <th>month</th>\n",
       "      <th>duration</th>\n",
       "      <th>calls</th>\n",
       "      <th>sms</th>\n",
       "      <th>gb</th>\n",
       "      <th>plan</th>\n",
       "      <th>city</th>\n",
       "      <th>revenue</th>\n",
       "    </tr>\n",
       "  </thead>\n",
       "  <tbody>\n",
       "    <tr>\n",
       "      <th>0</th>\n",
       "      <td>1000</td>\n",
       "      <td>12</td>\n",
       "      <td>124</td>\n",
       "      <td>16</td>\n",
       "      <td>11</td>\n",
       "      <td>2</td>\n",
       "      <td>ultimate</td>\n",
       "      <td>Atlanta-Sandy Springs-Roswell, GA MSA</td>\n",
       "      <td>70.00</td>\n",
       "    </tr>\n",
       "    <tr>\n",
       "      <th>1</th>\n",
       "      <td>1001</td>\n",
       "      <td>8</td>\n",
       "      <td>182</td>\n",
       "      <td>27</td>\n",
       "      <td>30</td>\n",
       "      <td>7</td>\n",
       "      <td>surf</td>\n",
       "      <td>Seattle-Tacoma-Bellevue, WA MSA</td>\n",
       "      <td>20.00</td>\n",
       "    </tr>\n",
       "    <tr>\n",
       "      <th>2</th>\n",
       "      <td>1001</td>\n",
       "      <td>9</td>\n",
       "      <td>315</td>\n",
       "      <td>49</td>\n",
       "      <td>44</td>\n",
       "      <td>14</td>\n",
       "      <td>surf</td>\n",
       "      <td>Seattle-Tacoma-Bellevue, WA MSA</td>\n",
       "      <td>20.00</td>\n",
       "    </tr>\n",
       "    <tr>\n",
       "      <th>3</th>\n",
       "      <td>1001</td>\n",
       "      <td>10</td>\n",
       "      <td>393</td>\n",
       "      <td>65</td>\n",
       "      <td>53</td>\n",
       "      <td>22</td>\n",
       "      <td>surf</td>\n",
       "      <td>Seattle-Tacoma-Bellevue, WA MSA</td>\n",
       "      <td>90.09</td>\n",
       "    </tr>\n",
       "    <tr>\n",
       "      <th>4</th>\n",
       "      <td>1001</td>\n",
       "      <td>11</td>\n",
       "      <td>426</td>\n",
       "      <td>64</td>\n",
       "      <td>36</td>\n",
       "      <td>19</td>\n",
       "      <td>surf</td>\n",
       "      <td>Seattle-Tacoma-Bellevue, WA MSA</td>\n",
       "      <td>60.00</td>\n",
       "    </tr>\n",
       "    <tr>\n",
       "      <th>...</th>\n",
       "      <td>...</td>\n",
       "      <td>...</td>\n",
       "      <td>...</td>\n",
       "      <td>...</td>\n",
       "      <td>...</td>\n",
       "      <td>...</td>\n",
       "      <td>...</td>\n",
       "      <td>...</td>\n",
       "      <td>...</td>\n",
       "    </tr>\n",
       "    <tr>\n",
       "      <th>2298</th>\n",
       "      <td>1307</td>\n",
       "      <td>0</td>\n",
       "      <td>0</td>\n",
       "      <td>0</td>\n",
       "      <td>0</td>\n",
       "      <td>0</td>\n",
       "      <td>surf</td>\n",
       "      <td>Boston-Cambridge-Newton, MA-NH MSA</td>\n",
       "      <td>20.00</td>\n",
       "    </tr>\n",
       "    <tr>\n",
       "      <th>2299</th>\n",
       "      <td>1319</td>\n",
       "      <td>0</td>\n",
       "      <td>0</td>\n",
       "      <td>0</td>\n",
       "      <td>0</td>\n",
       "      <td>0</td>\n",
       "      <td>surf</td>\n",
       "      <td>Colorado Springs, CO MSA</td>\n",
       "      <td>20.00</td>\n",
       "    </tr>\n",
       "    <tr>\n",
       "      <th>2300</th>\n",
       "      <td>1378</td>\n",
       "      <td>0</td>\n",
       "      <td>0</td>\n",
       "      <td>0</td>\n",
       "      <td>0</td>\n",
       "      <td>0</td>\n",
       "      <td>surf</td>\n",
       "      <td>Denver-Aurora-Lakewood, CO MSA</td>\n",
       "      <td>20.00</td>\n",
       "    </tr>\n",
       "    <tr>\n",
       "      <th>2301</th>\n",
       "      <td>1463</td>\n",
       "      <td>0</td>\n",
       "      <td>0</td>\n",
       "      <td>0</td>\n",
       "      <td>0</td>\n",
       "      <td>0</td>\n",
       "      <td>ultimate</td>\n",
       "      <td>Atlanta-Sandy Springs-Roswell, GA MSA</td>\n",
       "      <td>70.00</td>\n",
       "    </tr>\n",
       "    <tr>\n",
       "      <th>2302</th>\n",
       "      <td>1473</td>\n",
       "      <td>0</td>\n",
       "      <td>0</td>\n",
       "      <td>0</td>\n",
       "      <td>0</td>\n",
       "      <td>0</td>\n",
       "      <td>surf</td>\n",
       "      <td>Louisville/Jefferson County, KY-IN MSA</td>\n",
       "      <td>20.00</td>\n",
       "    </tr>\n",
       "  </tbody>\n",
       "</table>\n",
       "<p>2303 rows × 9 columns</p>\n",
       "</div>"
      ],
      "text/plain": [
       "      user_id  month  duration  calls  sms  gb      plan  \\\n",
       "0        1000     12       124     16   11   2  ultimate   \n",
       "1        1001      8       182     27   30   7      surf   \n",
       "2        1001      9       315     49   44  14      surf   \n",
       "3        1001     10       393     65   53  22      surf   \n",
       "4        1001     11       426     64   36  19      surf   \n",
       "...       ...    ...       ...    ...  ...  ..       ...   \n",
       "2298     1307      0         0      0    0   0      surf   \n",
       "2299     1319      0         0      0    0   0      surf   \n",
       "2300     1378      0         0      0    0   0      surf   \n",
       "2301     1463      0         0      0    0   0  ultimate   \n",
       "2302     1473      0         0      0    0   0      surf   \n",
       "\n",
       "                                        city  revenue  \n",
       "0      Atlanta-Sandy Springs-Roswell, GA MSA    70.00  \n",
       "1            Seattle-Tacoma-Bellevue, WA MSA    20.00  \n",
       "2            Seattle-Tacoma-Bellevue, WA MSA    20.00  \n",
       "3            Seattle-Tacoma-Bellevue, WA MSA    90.09  \n",
       "4            Seattle-Tacoma-Bellevue, WA MSA    60.00  \n",
       "...                                      ...      ...  \n",
       "2298      Boston-Cambridge-Newton, MA-NH MSA    20.00  \n",
       "2299                Colorado Springs, CO MSA    20.00  \n",
       "2300          Denver-Aurora-Lakewood, CO MSA    20.00  \n",
       "2301   Atlanta-Sandy Springs-Roswell, GA MSA    70.00  \n",
       "2302  Louisville/Jefferson County, KY-IN MSA    20.00  \n",
       "\n",
       "[2303 rows x 9 columns]"
      ]
     },
     "execution_count": 56,
     "metadata": {},
     "output_type": "execute_result"
    }
   ],
   "source": [
    "chart['revenue'] = chart.apply(cost,axis=1)\n",
    "chart # how to do this using dicts and plans file?"
   ]
  },
  {
   "cell_type": "code",
   "execution_count": 57,
   "id": "5874042d",
   "metadata": {},
   "outputs": [
    {
     "data": {
      "text/plain": [
       "0"
      ]
     },
     "execution_count": 57,
     "metadata": {},
     "output_type": "execute_result"
    }
   ],
   "source": [
    "chart.duplicated().sum()"
   ]
  },
  {
   "cell_type": "markdown",
   "id": "ce5cb274",
   "metadata": {},
   "source": [
    "## Seperating Charts by Locations and Creating Revenue Serieses per Area <a id=\"sclcrsa\"></a>"
   ]
  },
  {
   "cell_type": "code",
   "execution_count": 58,
   "id": "fe0b6494",
   "metadata": {},
   "outputs": [
    {
     "data": {
      "text/html": [
       "<div>\n",
       "<style scoped>\n",
       "    .dataframe tbody tr th:only-of-type {\n",
       "        vertical-align: middle;\n",
       "    }\n",
       "\n",
       "    .dataframe tbody tr th {\n",
       "        vertical-align: top;\n",
       "    }\n",
       "\n",
       "    .dataframe thead th {\n",
       "        text-align: right;\n",
       "    }\n",
       "</style>\n",
       "<table border=\"1\" class=\"dataframe\">\n",
       "  <thead>\n",
       "    <tr style=\"text-align: right;\">\n",
       "      <th></th>\n",
       "      <th>user_id</th>\n",
       "      <th>month</th>\n",
       "      <th>duration</th>\n",
       "      <th>calls</th>\n",
       "      <th>sms</th>\n",
       "      <th>gb</th>\n",
       "      <th>plan</th>\n",
       "      <th>city</th>\n",
       "      <th>revenue</th>\n",
       "    </tr>\n",
       "  </thead>\n",
       "  <tbody>\n",
       "    <tr>\n",
       "      <th>56</th>\n",
       "      <td>1014</td>\n",
       "      <td>11</td>\n",
       "      <td>163</td>\n",
       "      <td>28</td>\n",
       "      <td>9</td>\n",
       "      <td>2</td>\n",
       "      <td>surf</td>\n",
       "      <td>New York-Newark-Jersey City, NY-NJ-PA MSA</td>\n",
       "      <td>20.00</td>\n",
       "    </tr>\n",
       "    <tr>\n",
       "      <th>57</th>\n",
       "      <td>1014</td>\n",
       "      <td>12</td>\n",
       "      <td>1114</td>\n",
       "      <td>150</td>\n",
       "      <td>64</td>\n",
       "      <td>8</td>\n",
       "      <td>surf</td>\n",
       "      <td>New York-Newark-Jersey City, NY-NJ-PA MSA</td>\n",
       "      <td>38.84</td>\n",
       "    </tr>\n",
       "    <tr>\n",
       "      <th>75</th>\n",
       "      <td>1022</td>\n",
       "      <td>5</td>\n",
       "      <td>302</td>\n",
       "      <td>39</td>\n",
       "      <td>0</td>\n",
       "      <td>5</td>\n",
       "      <td>surf</td>\n",
       "      <td>New York-Newark-Jersey City, NY-NJ-PA MSA</td>\n",
       "      <td>20.00</td>\n",
       "    </tr>\n",
       "    <tr>\n",
       "      <th>76</th>\n",
       "      <td>1022</td>\n",
       "      <td>6</td>\n",
       "      <td>490</td>\n",
       "      <td>76</td>\n",
       "      <td>0</td>\n",
       "      <td>23</td>\n",
       "      <td>surf</td>\n",
       "      <td>New York-Newark-Jersey City, NY-NJ-PA MSA</td>\n",
       "      <td>100.00</td>\n",
       "    </tr>\n",
       "    <tr>\n",
       "      <th>77</th>\n",
       "      <td>1022</td>\n",
       "      <td>7</td>\n",
       "      <td>475</td>\n",
       "      <td>70</td>\n",
       "      <td>0</td>\n",
       "      <td>10</td>\n",
       "      <td>surf</td>\n",
       "      <td>New York-Newark-Jersey City, NY-NJ-PA MSA</td>\n",
       "      <td>20.00</td>\n",
       "    </tr>\n",
       "    <tr>\n",
       "      <th>...</th>\n",
       "      <td>...</td>\n",
       "      <td>...</td>\n",
       "      <td>...</td>\n",
       "      <td>...</td>\n",
       "      <td>...</td>\n",
       "      <td>...</td>\n",
       "      <td>...</td>\n",
       "      <td>...</td>\n",
       "      <td>...</td>\n",
       "    </tr>\n",
       "    <tr>\n",
       "      <th>2264</th>\n",
       "      <td>1080</td>\n",
       "      <td>9</td>\n",
       "      <td>0</td>\n",
       "      <td>0</td>\n",
       "      <td>64</td>\n",
       "      <td>25</td>\n",
       "      <td>surf</td>\n",
       "      <td>New York-Newark-Jersey City, NY-NJ-PA MSA</td>\n",
       "      <td>120.42</td>\n",
       "    </tr>\n",
       "    <tr>\n",
       "      <th>2265</th>\n",
       "      <td>1080</td>\n",
       "      <td>10</td>\n",
       "      <td>0</td>\n",
       "      <td>0</td>\n",
       "      <td>59</td>\n",
       "      <td>30</td>\n",
       "      <td>surf</td>\n",
       "      <td>New York-Newark-Jersey City, NY-NJ-PA MSA</td>\n",
       "      <td>170.27</td>\n",
       "    </tr>\n",
       "    <tr>\n",
       "      <th>2266</th>\n",
       "      <td>1080</td>\n",
       "      <td>11</td>\n",
       "      <td>0</td>\n",
       "      <td>0</td>\n",
       "      <td>50</td>\n",
       "      <td>33</td>\n",
       "      <td>surf</td>\n",
       "      <td>New York-Newark-Jersey City, NY-NJ-PA MSA</td>\n",
       "      <td>200.00</td>\n",
       "    </tr>\n",
       "    <tr>\n",
       "      <th>2267</th>\n",
       "      <td>1080</td>\n",
       "      <td>12</td>\n",
       "      <td>0</td>\n",
       "      <td>0</td>\n",
       "      <td>61</td>\n",
       "      <td>24</td>\n",
       "      <td>surf</td>\n",
       "      <td>New York-Newark-Jersey City, NY-NJ-PA MSA</td>\n",
       "      <td>110.33</td>\n",
       "    </tr>\n",
       "    <tr>\n",
       "      <th>2297</th>\n",
       "      <td>1275</td>\n",
       "      <td>0</td>\n",
       "      <td>0</td>\n",
       "      <td>0</td>\n",
       "      <td>0</td>\n",
       "      <td>0</td>\n",
       "      <td>ultimate</td>\n",
       "      <td>New York-Newark-Jersey City, NY-NJ-PA MSA</td>\n",
       "      <td>70.00</td>\n",
       "    </tr>\n",
       "  </tbody>\n",
       "</table>\n",
       "<p>378 rows × 9 columns</p>\n",
       "</div>"
      ],
      "text/plain": [
       "      user_id  month  duration  calls  sms  gb      plan  \\\n",
       "56       1014     11       163     28    9   2      surf   \n",
       "57       1014     12      1114    150   64   8      surf   \n",
       "75       1022      5       302     39    0   5      surf   \n",
       "76       1022      6       490     76    0  23      surf   \n",
       "77       1022      7       475     70    0  10      surf   \n",
       "...       ...    ...       ...    ...  ...  ..       ...   \n",
       "2264     1080      9         0      0   64  25      surf   \n",
       "2265     1080     10         0      0   59  30      surf   \n",
       "2266     1080     11         0      0   50  33      surf   \n",
       "2267     1080     12         0      0   61  24      surf   \n",
       "2297     1275      0         0      0    0   0  ultimate   \n",
       "\n",
       "                                           city  revenue  \n",
       "56    New York-Newark-Jersey City, NY-NJ-PA MSA    20.00  \n",
       "57    New York-Newark-Jersey City, NY-NJ-PA MSA    38.84  \n",
       "75    New York-Newark-Jersey City, NY-NJ-PA MSA    20.00  \n",
       "76    New York-Newark-Jersey City, NY-NJ-PA MSA   100.00  \n",
       "77    New York-Newark-Jersey City, NY-NJ-PA MSA    20.00  \n",
       "...                                         ...      ...  \n",
       "2264  New York-Newark-Jersey City, NY-NJ-PA MSA   120.42  \n",
       "2265  New York-Newark-Jersey City, NY-NJ-PA MSA   170.27  \n",
       "2266  New York-Newark-Jersey City, NY-NJ-PA MSA   200.00  \n",
       "2267  New York-Newark-Jersey City, NY-NJ-PA MSA   110.33  \n",
       "2297  New York-Newark-Jersey City, NY-NJ-PA MSA    70.00  \n",
       "\n",
       "[378 rows x 9 columns]"
      ]
     },
     "execution_count": 58,
     "metadata": {},
     "output_type": "execute_result"
    }
   ],
   "source": [
    "chart_NY_NJ = chart[chart['city'].str.contains(\"NY-NJ\")]\n",
    "chart_NY_NJ"
   ]
  },
  {
   "cell_type": "code",
   "execution_count": 59,
   "id": "96edc531",
   "metadata": {},
   "outputs": [
    {
     "data": {
      "text/html": [
       "<div>\n",
       "<style scoped>\n",
       "    .dataframe tbody tr th:only-of-type {\n",
       "        vertical-align: middle;\n",
       "    }\n",
       "\n",
       "    .dataframe tbody tr th {\n",
       "        vertical-align: top;\n",
       "    }\n",
       "\n",
       "    .dataframe thead th {\n",
       "        text-align: right;\n",
       "    }\n",
       "</style>\n",
       "<table border=\"1\" class=\"dataframe\">\n",
       "  <thead>\n",
       "    <tr style=\"text-align: right;\">\n",
       "      <th></th>\n",
       "      <th>user_id</th>\n",
       "      <th>month</th>\n",
       "      <th>duration</th>\n",
       "      <th>calls</th>\n",
       "      <th>sms</th>\n",
       "      <th>gb</th>\n",
       "      <th>plan</th>\n",
       "      <th>city</th>\n",
       "      <th>revenue</th>\n",
       "    </tr>\n",
       "  </thead>\n",
       "  <tbody>\n",
       "    <tr>\n",
       "      <th>0</th>\n",
       "      <td>1000</td>\n",
       "      <td>12</td>\n",
       "      <td>124</td>\n",
       "      <td>16</td>\n",
       "      <td>11</td>\n",
       "      <td>2</td>\n",
       "      <td>ultimate</td>\n",
       "      <td>Atlanta-Sandy Springs-Roswell, GA MSA</td>\n",
       "      <td>70.00</td>\n",
       "    </tr>\n",
       "    <tr>\n",
       "      <th>1</th>\n",
       "      <td>1001</td>\n",
       "      <td>8</td>\n",
       "      <td>182</td>\n",
       "      <td>27</td>\n",
       "      <td>30</td>\n",
       "      <td>7</td>\n",
       "      <td>surf</td>\n",
       "      <td>Seattle-Tacoma-Bellevue, WA MSA</td>\n",
       "      <td>20.00</td>\n",
       "    </tr>\n",
       "    <tr>\n",
       "      <th>2</th>\n",
       "      <td>1001</td>\n",
       "      <td>9</td>\n",
       "      <td>315</td>\n",
       "      <td>49</td>\n",
       "      <td>44</td>\n",
       "      <td>14</td>\n",
       "      <td>surf</td>\n",
       "      <td>Seattle-Tacoma-Bellevue, WA MSA</td>\n",
       "      <td>20.00</td>\n",
       "    </tr>\n",
       "    <tr>\n",
       "      <th>3</th>\n",
       "      <td>1001</td>\n",
       "      <td>10</td>\n",
       "      <td>393</td>\n",
       "      <td>65</td>\n",
       "      <td>53</td>\n",
       "      <td>22</td>\n",
       "      <td>surf</td>\n",
       "      <td>Seattle-Tacoma-Bellevue, WA MSA</td>\n",
       "      <td>90.09</td>\n",
       "    </tr>\n",
       "    <tr>\n",
       "      <th>4</th>\n",
       "      <td>1001</td>\n",
       "      <td>11</td>\n",
       "      <td>426</td>\n",
       "      <td>64</td>\n",
       "      <td>36</td>\n",
       "      <td>19</td>\n",
       "      <td>surf</td>\n",
       "      <td>Seattle-Tacoma-Bellevue, WA MSA</td>\n",
       "      <td>60.00</td>\n",
       "    </tr>\n",
       "    <tr>\n",
       "      <th>...</th>\n",
       "      <td>...</td>\n",
       "      <td>...</td>\n",
       "      <td>...</td>\n",
       "      <td>...</td>\n",
       "      <td>...</td>\n",
       "      <td>...</td>\n",
       "      <td>...</td>\n",
       "      <td>...</td>\n",
       "      <td>...</td>\n",
       "    </tr>\n",
       "    <tr>\n",
       "      <th>2298</th>\n",
       "      <td>1307</td>\n",
       "      <td>0</td>\n",
       "      <td>0</td>\n",
       "      <td>0</td>\n",
       "      <td>0</td>\n",
       "      <td>0</td>\n",
       "      <td>surf</td>\n",
       "      <td>Boston-Cambridge-Newton, MA-NH MSA</td>\n",
       "      <td>20.00</td>\n",
       "    </tr>\n",
       "    <tr>\n",
       "      <th>2299</th>\n",
       "      <td>1319</td>\n",
       "      <td>0</td>\n",
       "      <td>0</td>\n",
       "      <td>0</td>\n",
       "      <td>0</td>\n",
       "      <td>0</td>\n",
       "      <td>surf</td>\n",
       "      <td>Colorado Springs, CO MSA</td>\n",
       "      <td>20.00</td>\n",
       "    </tr>\n",
       "    <tr>\n",
       "      <th>2300</th>\n",
       "      <td>1378</td>\n",
       "      <td>0</td>\n",
       "      <td>0</td>\n",
       "      <td>0</td>\n",
       "      <td>0</td>\n",
       "      <td>0</td>\n",
       "      <td>surf</td>\n",
       "      <td>Denver-Aurora-Lakewood, CO MSA</td>\n",
       "      <td>20.00</td>\n",
       "    </tr>\n",
       "    <tr>\n",
       "      <th>2301</th>\n",
       "      <td>1463</td>\n",
       "      <td>0</td>\n",
       "      <td>0</td>\n",
       "      <td>0</td>\n",
       "      <td>0</td>\n",
       "      <td>0</td>\n",
       "      <td>ultimate</td>\n",
       "      <td>Atlanta-Sandy Springs-Roswell, GA MSA</td>\n",
       "      <td>70.00</td>\n",
       "    </tr>\n",
       "    <tr>\n",
       "      <th>2302</th>\n",
       "      <td>1473</td>\n",
       "      <td>0</td>\n",
       "      <td>0</td>\n",
       "      <td>0</td>\n",
       "      <td>0</td>\n",
       "      <td>0</td>\n",
       "      <td>surf</td>\n",
       "      <td>Louisville/Jefferson County, KY-IN MSA</td>\n",
       "      <td>20.00</td>\n",
       "    </tr>\n",
       "  </tbody>\n",
       "</table>\n",
       "<p>1925 rows × 9 columns</p>\n",
       "</div>"
      ],
      "text/plain": [
       "      user_id  month  duration  calls  sms  gb      plan  \\\n",
       "0        1000     12       124     16   11   2  ultimate   \n",
       "1        1001      8       182     27   30   7      surf   \n",
       "2        1001      9       315     49   44  14      surf   \n",
       "3        1001     10       393     65   53  22      surf   \n",
       "4        1001     11       426     64   36  19      surf   \n",
       "...       ...    ...       ...    ...  ...  ..       ...   \n",
       "2298     1307      0         0      0    0   0      surf   \n",
       "2299     1319      0         0      0    0   0      surf   \n",
       "2300     1378      0         0      0    0   0      surf   \n",
       "2301     1463      0         0      0    0   0  ultimate   \n",
       "2302     1473      0         0      0    0   0      surf   \n",
       "\n",
       "                                        city  revenue  \n",
       "0      Atlanta-Sandy Springs-Roswell, GA MSA    70.00  \n",
       "1            Seattle-Tacoma-Bellevue, WA MSA    20.00  \n",
       "2            Seattle-Tacoma-Bellevue, WA MSA    20.00  \n",
       "3            Seattle-Tacoma-Bellevue, WA MSA    90.09  \n",
       "4            Seattle-Tacoma-Bellevue, WA MSA    60.00  \n",
       "...                                      ...      ...  \n",
       "2298      Boston-Cambridge-Newton, MA-NH MSA    20.00  \n",
       "2299                Colorado Springs, CO MSA    20.00  \n",
       "2300          Denver-Aurora-Lakewood, CO MSA    20.00  \n",
       "2301   Atlanta-Sandy Springs-Roswell, GA MSA    70.00  \n",
       "2302  Louisville/Jefferson County, KY-IN MSA    20.00  \n",
       "\n",
       "[1925 rows x 9 columns]"
      ]
     },
     "execution_count": 59,
     "metadata": {},
     "output_type": "execute_result"
    }
   ],
   "source": [
    "chart_rest = chart.drop(chart_NY_NJ.index)\n",
    "chart_rest"
   ]
  },
  {
   "cell_type": "code",
   "execution_count": 60,
   "id": "3ba8a092",
   "metadata": {},
   "outputs": [
    {
     "name": "stdout",
     "output_type": "stream",
     "text": [
      "2219.881380131205 1885.7843645817597\n"
     ]
    }
   ],
   "source": [
    "revenue_NY_NJ = chart_NY_NJ['revenue']\n",
    "revenue_rest = chart_rest['revenue']\n",
    "var1 = np.var(revenue_rest)\n",
    "var2 = np.var(revenue_NY_NJ)\n",
    "print(var1,var2)"
   ]
  },
  {
   "cell_type": "markdown",
   "id": "16f8e95c",
   "metadata": {},
   "source": [
    "Variation of revenue differs between NY/NJ and the rest.\n",
    "In addition the revenue serieses for the different locations we're extracted."
   ]
  },
  {
   "cell_type": "markdown",
   "id": "b620d00b",
   "metadata": {},
   "source": [
    "## Creating Revenue Serieses per Plan <a id=\"rvspp\"></a>"
   ]
  },
  {
   "cell_type": "code",
   "execution_count": 61,
   "id": "b7e881b9",
   "metadata": {},
   "outputs": [
    {
     "data": {
      "text/html": [
       "<div>\n",
       "<style scoped>\n",
       "    .dataframe tbody tr th:only-of-type {\n",
       "        vertical-align: middle;\n",
       "    }\n",
       "\n",
       "    .dataframe tbody tr th {\n",
       "        vertical-align: top;\n",
       "    }\n",
       "\n",
       "    .dataframe thead th {\n",
       "        text-align: right;\n",
       "    }\n",
       "</style>\n",
       "<table border=\"1\" class=\"dataframe\">\n",
       "  <thead>\n",
       "    <tr style=\"text-align: right;\">\n",
       "      <th></th>\n",
       "      <th>revenue</th>\n",
       "    </tr>\n",
       "  </thead>\n",
       "  <tbody>\n",
       "    <tr>\n",
       "      <th>0</th>\n",
       "      <td>70.0</td>\n",
       "    </tr>\n",
       "    <tr>\n",
       "      <th>19</th>\n",
       "      <td>70.0</td>\n",
       "    </tr>\n",
       "    <tr>\n",
       "      <th>20</th>\n",
       "      <td>84.0</td>\n",
       "    </tr>\n",
       "    <tr>\n",
       "      <th>26</th>\n",
       "      <td>70.0</td>\n",
       "    </tr>\n",
       "    <tr>\n",
       "      <th>27</th>\n",
       "      <td>70.0</td>\n",
       "    </tr>\n",
       "    <tr>\n",
       "      <th>...</th>\n",
       "      <td>...</td>\n",
       "    </tr>\n",
       "    <tr>\n",
       "      <th>2292</th>\n",
       "      <td>70.0</td>\n",
       "    </tr>\n",
       "    <tr>\n",
       "      <th>2293</th>\n",
       "      <td>70.0</td>\n",
       "    </tr>\n",
       "    <tr>\n",
       "      <th>2296</th>\n",
       "      <td>70.0</td>\n",
       "    </tr>\n",
       "    <tr>\n",
       "      <th>2297</th>\n",
       "      <td>70.0</td>\n",
       "    </tr>\n",
       "    <tr>\n",
       "      <th>2301</th>\n",
       "      <td>70.0</td>\n",
       "    </tr>\n",
       "  </tbody>\n",
       "</table>\n",
       "<p>724 rows × 1 columns</p>\n",
       "</div>"
      ],
      "text/plain": [
       "      revenue\n",
       "0        70.0\n",
       "19       70.0\n",
       "20       84.0\n",
       "26       70.0\n",
       "27       70.0\n",
       "...       ...\n",
       "2292     70.0\n",
       "2293     70.0\n",
       "2296     70.0\n",
       "2297     70.0\n",
       "2301     70.0\n",
       "\n",
       "[724 rows x 1 columns]"
      ]
     },
     "execution_count": 61,
     "metadata": {},
     "output_type": "execute_result"
    }
   ],
   "source": [
    "ultimate_chart = chart[chart['plan'] == 'ultimate']\n",
    "surf_chart = chart[chart['plan'] == 'surf']\n",
    "\n",
    "ultimate_revenue = ultimate_chart['revenue'].to_frame()\n",
    "ultimate_revenue"
   ]
  },
  {
   "cell_type": "code",
   "execution_count": 62,
   "id": "dd6b75b1",
   "metadata": {
    "scrolled": true
   },
   "outputs": [
    {
     "data": {
      "text/html": [
       "<div>\n",
       "<style scoped>\n",
       "    .dataframe tbody tr th:only-of-type {\n",
       "        vertical-align: middle;\n",
       "    }\n",
       "\n",
       "    .dataframe tbody tr th {\n",
       "        vertical-align: top;\n",
       "    }\n",
       "\n",
       "    .dataframe thead th {\n",
       "        text-align: right;\n",
       "    }\n",
       "</style>\n",
       "<table border=\"1\" class=\"dataframe\">\n",
       "  <thead>\n",
       "    <tr style=\"text-align: right;\">\n",
       "      <th></th>\n",
       "      <th>revenue</th>\n",
       "    </tr>\n",
       "  </thead>\n",
       "  <tbody>\n",
       "    <tr>\n",
       "      <th>1</th>\n",
       "      <td>20.00</td>\n",
       "    </tr>\n",
       "    <tr>\n",
       "      <th>2</th>\n",
       "      <td>20.00</td>\n",
       "    </tr>\n",
       "    <tr>\n",
       "      <th>3</th>\n",
       "      <td>90.09</td>\n",
       "    </tr>\n",
       "    <tr>\n",
       "      <th>4</th>\n",
       "      <td>60.00</td>\n",
       "    </tr>\n",
       "    <tr>\n",
       "      <th>5</th>\n",
       "      <td>60.00</td>\n",
       "    </tr>\n",
       "    <tr>\n",
       "      <th>...</th>\n",
       "      <td>...</td>\n",
       "    </tr>\n",
       "    <tr>\n",
       "      <th>2295</th>\n",
       "      <td>20.00</td>\n",
       "    </tr>\n",
       "    <tr>\n",
       "      <th>2298</th>\n",
       "      <td>20.00</td>\n",
       "    </tr>\n",
       "    <tr>\n",
       "      <th>2299</th>\n",
       "      <td>20.00</td>\n",
       "    </tr>\n",
       "    <tr>\n",
       "      <th>2300</th>\n",
       "      <td>20.00</td>\n",
       "    </tr>\n",
       "    <tr>\n",
       "      <th>2302</th>\n",
       "      <td>20.00</td>\n",
       "    </tr>\n",
       "  </tbody>\n",
       "</table>\n",
       "<p>1579 rows × 1 columns</p>\n",
       "</div>"
      ],
      "text/plain": [
       "      revenue\n",
       "1       20.00\n",
       "2       20.00\n",
       "3       90.09\n",
       "4       60.00\n",
       "5       60.00\n",
       "...       ...\n",
       "2295    20.00\n",
       "2298    20.00\n",
       "2299    20.00\n",
       "2300    20.00\n",
       "2302    20.00\n",
       "\n",
       "[1579 rows x 1 columns]"
      ]
     },
     "execution_count": 62,
     "metadata": {},
     "output_type": "execute_result"
    }
   ],
   "source": [
    "surf_revenue = surf_chart['revenue'].to_frame()\n",
    "surf_revenue"
   ]
  },
  {
   "cell_type": "markdown",
   "id": "2e65d80b",
   "metadata": {},
   "source": [
    "# Plan Analysis <a id=\"plalys\"></a>"
   ]
  },
  {
   "cell_type": "markdown",
   "id": "255105a2",
   "metadata": {},
   "source": [
    "## Revenue per Plan <a id=\"rvprpl\"></a>"
   ]
  },
  {
   "cell_type": "code",
   "execution_count": 63,
   "id": "0560f541",
   "metadata": {},
   "outputs": [
    {
     "data": {
      "text/html": [
       "<div>\n",
       "<style scoped>\n",
       "    .dataframe tbody tr th:only-of-type {\n",
       "        vertical-align: middle;\n",
       "    }\n",
       "\n",
       "    .dataframe tbody tr th {\n",
       "        vertical-align: top;\n",
       "    }\n",
       "\n",
       "    .dataframe thead th {\n",
       "        text-align: right;\n",
       "    }\n",
       "</style>\n",
       "<table border=\"1\" class=\"dataframe\">\n",
       "  <thead>\n",
       "    <tr style=\"text-align: right;\">\n",
       "      <th></th>\n",
       "      <th>count</th>\n",
       "      <th>mean</th>\n",
       "      <th>std</th>\n",
       "      <th>min</th>\n",
       "      <th>25%</th>\n",
       "      <th>50%</th>\n",
       "      <th>75%</th>\n",
       "      <th>max</th>\n",
       "      <th>var</th>\n",
       "    </tr>\n",
       "    <tr>\n",
       "      <th>plan</th>\n",
       "      <th></th>\n",
       "      <th></th>\n",
       "      <th></th>\n",
       "      <th></th>\n",
       "      <th></th>\n",
       "      <th></th>\n",
       "      <th></th>\n",
       "      <th></th>\n",
       "      <th></th>\n",
       "    </tr>\n",
       "  </thead>\n",
       "  <tbody>\n",
       "    <tr>\n",
       "      <th>surf</th>\n",
       "      <td>1579.0</td>\n",
       "      <td>60.551729</td>\n",
       "      <td>55.339379</td>\n",
       "      <td>20.0</td>\n",
       "      <td>20.0</td>\n",
       "      <td>40.18</td>\n",
       "      <td>80.315</td>\n",
       "      <td>590.37</td>\n",
       "      <td>3062.446864</td>\n",
       "    </tr>\n",
       "    <tr>\n",
       "      <th>ultimate</th>\n",
       "      <td>724.0</td>\n",
       "      <td>72.301105</td>\n",
       "      <td>11.364839</td>\n",
       "      <td>70.0</td>\n",
       "      <td>70.0</td>\n",
       "      <td>70.00</td>\n",
       "      <td>70.000</td>\n",
       "      <td>182.00</td>\n",
       "      <td>129.159556</td>\n",
       "    </tr>\n",
       "  </tbody>\n",
       "</table>\n",
       "</div>"
      ],
      "text/plain": [
       "           count       mean        std   min   25%    50%     75%     max  \\\n",
       "plan                                                                        \n",
       "surf      1579.0  60.551729  55.339379  20.0  20.0  40.18  80.315  590.37   \n",
       "ultimate   724.0  72.301105  11.364839  70.0  70.0  70.00  70.000  182.00   \n",
       "\n",
       "                  var  \n",
       "plan                   \n",
       "surf      3062.446864  \n",
       "ultimate   129.159556  "
      ]
     },
     "execution_count": 63,
     "metadata": {},
     "output_type": "execute_result"
    }
   ],
   "source": [
    "tmp = chart.groupby('plan')['revenue'].describe()\n",
    "tmp['var'] = tmp['std']*tmp['std']\n",
    "tmp"
   ]
  },
  {
   "cell_type": "markdown",
   "id": "a129bdcd",
   "metadata": {},
   "source": [
    "There are a few things to notice about the latter table -\n",
    "\n",
    "- Surf mean is relatively close to the ultimate mean. thus, customers who take the cheaper plan end up paying twice the basic fee more on service beyond the plan basic services.\n",
    "\n",
    "- Surf plan users are more dispersed, as their std is 5 times bigger while their values are generally smaller.\n",
    "the max values are example of that\n",
    "\n",
    "- At least 75% of the ultimate customers don't pay for more than the basic service.\n",
    "\n",
    "- At least 50% of the surf customers need more than basic services but still pay just 40$.\n",
    "\n",
    "- The variations are not equal or close to"
   ]
  },
  {
   "cell_type": "code",
   "execution_count": 64,
   "id": "43208a37",
   "metadata": {},
   "outputs": [
    {
     "data": {
      "image/png": "[encoded data removed]",
      "text/plain": [
       "<Figure size 432x288 with 1 Axes>"
      ]
     },
     "metadata": {
      "needs_background": "light"
     },
     "output_type": "display_data"
    },
    {
     "data": {
      "image/png": "[encoded data removed]",
      "text/plain": [
       "<Figure size 432x288 with 1 Axes>"
      ]
     },
     "metadata": {
      "needs_background": "light"
     },
     "output_type": "display_data"
    }
   ],
   "source": [
    "ultimate_chart.hist('revenue', bins=5, range=(65,200))\n",
    "plt.title('ultimate_revenue')\n",
    "plt.ylabel('num of fees')\n",
    "plt.xlabel('revenue')\n",
    "plt.show()\n",
    "\n",
    "surf_chart.hist('revenue', bins=8, range=(18,200))\n",
    "plt.title('surf_revenue')\n",
    "plt.ylabel('num of fees')\n",
    "plt.xlabel('revenue')\n",
    "plt.show()"
   ]
  },
  {
   "cell_type": "markdown",
   "id": "33aab98a",
   "metadata": {},
   "source": [
    "The most common fees are the basic fees for each plan. There's a bigger variation in the surf customers data"
   ]
  },
  {
   "cell_type": "markdown",
   "id": "2b93e98f",
   "metadata": {},
   "source": [
    "## Duration per Plan <a id=\"drtprpl\"></a>"
   ]
  },
  {
   "cell_type": "code",
   "execution_count": 65,
   "id": "65220b0c",
   "metadata": {
    "scrolled": true
   },
   "outputs": [
    {
     "data": {
      "text/html": [
       "<div>\n",
       "<style scoped>\n",
       "    .dataframe tbody tr th:only-of-type {\n",
       "        vertical-align: middle;\n",
       "    }\n",
       "\n",
       "    .dataframe tbody tr th {\n",
       "        vertical-align: top;\n",
       "    }\n",
       "\n",
       "    .dataframe thead th {\n",
       "        text-align: right;\n",
       "    }\n",
       "</style>\n",
       "<table border=\"1\" class=\"dataframe\">\n",
       "  <thead>\n",
       "    <tr style=\"text-align: right;\">\n",
       "      <th></th>\n",
       "      <th>count</th>\n",
       "      <th>mean</th>\n",
       "      <th>std</th>\n",
       "      <th>min</th>\n",
       "      <th>25%</th>\n",
       "      <th>50%</th>\n",
       "      <th>75%</th>\n",
       "      <th>max</th>\n",
       "      <th>var</th>\n",
       "    </tr>\n",
       "    <tr>\n",
       "      <th>plan</th>\n",
       "      <th></th>\n",
       "      <th></th>\n",
       "      <th></th>\n",
       "      <th></th>\n",
       "      <th></th>\n",
       "      <th></th>\n",
       "      <th></th>\n",
       "      <th></th>\n",
       "      <th></th>\n",
       "    </tr>\n",
       "  </thead>\n",
       "  <tbody>\n",
       "    <tr>\n",
       "      <th>surf</th>\n",
       "      <td>1579.0</td>\n",
       "      <td>427.120329</td>\n",
       "      <td>235.490079</td>\n",
       "      <td>0.0</td>\n",
       "      <td>269.00</td>\n",
       "      <td>424.0</td>\n",
       "      <td>576.00</td>\n",
       "      <td>1510.0</td>\n",
       "      <td>55455.577400</td>\n",
       "    </tr>\n",
       "    <tr>\n",
       "      <th>ultimate</th>\n",
       "      <td>724.0</td>\n",
       "      <td>428.071823</td>\n",
       "      <td>241.958423</td>\n",
       "      <td>0.0</td>\n",
       "      <td>258.75</td>\n",
       "      <td>421.5</td>\n",
       "      <td>564.25</td>\n",
       "      <td>1369.0</td>\n",
       "      <td>58543.878652</td>\n",
       "    </tr>\n",
       "  </tbody>\n",
       "</table>\n",
       "</div>"
      ],
      "text/plain": [
       "           count        mean         std  min     25%    50%     75%     max  \\\n",
       "plan                                                                           \n",
       "surf      1579.0  427.120329  235.490079  0.0  269.00  424.0  576.00  1510.0   \n",
       "ultimate   724.0  428.071823  241.958423  0.0  258.75  421.5  564.25  1369.0   \n",
       "\n",
       "                   var  \n",
       "plan                    \n",
       "surf      55455.577400  \n",
       "ultimate  58543.878652  "
      ]
     },
     "execution_count": 65,
     "metadata": {},
     "output_type": "execute_result"
    }
   ],
   "source": [
    "tmp = chart.groupby('plan')['duration'].describe()\n",
    "tmp['var'] = tmp['std']*tmp['std']\n",
    "tmp"
   ]
  },
  {
   "cell_type": "markdown",
   "id": "be503c3a",
   "metadata": {},
   "source": [
    "Duration almost the same in the 2 plans! It implies users use their phone the same irrelevant of their plan, at least when it comes to phone calls."
   ]
  },
  {
   "cell_type": "code",
   "execution_count": 66,
   "id": "48c02b8a",
   "metadata": {},
   "outputs": [
    {
     "data": {
      "image/png": "[encoded data removed]",
      "text/plain": [
       "<Figure size 432x288 with 1 Axes>"
      ]
     },
     "metadata": {
      "needs_background": "light"
     },
     "output_type": "display_data"
    },
    {
     "data": {
      "image/png": "[encoded data removed]",
      "text/plain": [
       "<Figure size 432x288 with 1 Axes>"
      ]
     },
     "metadata": {
      "needs_background": "light"
     },
     "output_type": "display_data"
    }
   ],
   "source": [
    "ultimate_chart.hist('duration', bins=8, range=(0,1600))\n",
    "plt.title('ultimate_duration')\n",
    "plt.ylabel('num of fees')\n",
    "plt.xlabel('monthly duration')\n",
    "plt.show()\n",
    "\n",
    "surf_chart.hist('duration', bins=12, range=(0,1600))\n",
    "plt.title('surf_duration')\n",
    "plt.ylabel('num of fees')\n",
    "plt.xlabel('monthly duration')\n",
    "plt.show()"
   ]
  },
  {
   "cell_type": "markdown",
   "id": "33791433",
   "metadata": {},
   "source": [
    "As witnessed in \"Duration per plan\", the data for the different plans is almost statistically identical, and hence the histograms have the same general shape."
   ]
  },
  {
   "cell_type": "markdown",
   "id": "9545b3bc",
   "metadata": {},
   "source": [
    "## SMS per Plan <a id=\"smsprpl\"></a>"
   ]
  },
  {
   "cell_type": "code",
   "execution_count": 67,
   "id": "2e69557d",
   "metadata": {},
   "outputs": [
    {
     "data": {
      "text/html": [
       "<div>\n",
       "<style scoped>\n",
       "    .dataframe tbody tr th:only-of-type {\n",
       "        vertical-align: middle;\n",
       "    }\n",
       "\n",
       "    .dataframe tbody tr th {\n",
       "        vertical-align: top;\n",
       "    }\n",
       "\n",
       "    .dataframe thead th {\n",
       "        text-align: right;\n",
       "    }\n",
       "</style>\n",
       "<table border=\"1\" class=\"dataframe\">\n",
       "  <thead>\n",
       "    <tr style=\"text-align: right;\">\n",
       "      <th></th>\n",
       "      <th>count</th>\n",
       "      <th>mean</th>\n",
       "      <th>std</th>\n",
       "      <th>min</th>\n",
       "      <th>25%</th>\n",
       "      <th>50%</th>\n",
       "      <th>75%</th>\n",
       "      <th>max</th>\n",
       "      <th>var</th>\n",
       "    </tr>\n",
       "    <tr>\n",
       "      <th>plan</th>\n",
       "      <th></th>\n",
       "      <th></th>\n",
       "      <th></th>\n",
       "      <th></th>\n",
       "      <th></th>\n",
       "      <th></th>\n",
       "      <th></th>\n",
       "      <th></th>\n",
       "      <th></th>\n",
       "    </tr>\n",
       "  </thead>\n",
       "  <tbody>\n",
       "    <tr>\n",
       "      <th>surf</th>\n",
       "      <td>1579.0</td>\n",
       "      <td>31.041165</td>\n",
       "      <td>33.557683</td>\n",
       "      <td>0.0</td>\n",
       "      <td>3.0</td>\n",
       "      <td>24.0</td>\n",
       "      <td>47.00</td>\n",
       "      <td>266.0</td>\n",
       "      <td>1126.118076</td>\n",
       "    </tr>\n",
       "    <tr>\n",
       "      <th>ultimate</th>\n",
       "      <td>724.0</td>\n",
       "      <td>37.343923</td>\n",
       "      <td>34.782576</td>\n",
       "      <td>0.0</td>\n",
       "      <td>6.0</td>\n",
       "      <td>30.0</td>\n",
       "      <td>60.25</td>\n",
       "      <td>166.0</td>\n",
       "      <td>1209.827612</td>\n",
       "    </tr>\n",
       "  </tbody>\n",
       "</table>\n",
       "</div>"
      ],
      "text/plain": [
       "           count       mean        std  min  25%   50%    75%    max  \\\n",
       "plan                                                                   \n",
       "surf      1579.0  31.041165  33.557683  0.0  3.0  24.0  47.00  266.0   \n",
       "ultimate   724.0  37.343923  34.782576  0.0  6.0  30.0  60.25  166.0   \n",
       "\n",
       "                  var  \n",
       "plan                   \n",
       "surf      1126.118076  \n",
       "ultimate  1209.827612  "
      ]
     },
     "execution_count": 67,
     "metadata": {},
     "output_type": "execute_result"
    }
   ],
   "source": [
    "tmp = chart.groupby('plan')['sms'].describe()\n",
    "tmp['var'] = tmp['std']*tmp['std']\n",
    "tmp"
   ]
  },
  {
   "cell_type": "markdown",
   "id": "71291709",
   "metadata": {},
   "source": [
    "Ultimate plan users message more."
   ]
  },
  {
   "cell_type": "code",
   "execution_count": 68,
   "id": "057b206d",
   "metadata": {},
   "outputs": [
    {
     "data": {
      "image/png": "[encoded data removed]",
      "text/plain": [
       "<Figure size 432x288 with 1 Axes>"
      ]
     },
     "metadata": {
      "needs_background": "light"
     },
     "output_type": "display_data"
    },
    {
     "data": {
      "image/png": "[encoded data removed]",
      "text/plain": [
       "<Figure size 432x288 with 1 Axes>"
      ]
     },
     "metadata": {
      "needs_background": "light"
     },
     "output_type": "display_data"
    }
   ],
   "source": [
    "ultimate_chart.hist('sms', bins=12, range=(0,170))\n",
    "plt.title('ultimate_sms')\n",
    "plt.ylabel('num of fees')\n",
    "plt.xlabel('num of sms')\n",
    "plt.show()\n",
    "\n",
    "surf_chart.hist('sms', bins=12, range=(0,270))\n",
    "plt.title('surf_sms')\n",
    "plt.ylabel('num of fees')\n",
    "plt.xlabel('num of sms')\n",
    "plt.show()"
   ]
  },
  {
   "cell_type": "markdown",
   "id": "5d95b5e1",
   "metadata": {},
   "source": [
    "As seen in \"SMS per plan\", the mean is greater than the median for both plans, and hence the right-skewed histograms. It seems ultimate users messgae more than their surf friends."
   ]
  },
  {
   "cell_type": "markdown",
   "id": "585b4589",
   "metadata": {},
   "source": [
    "## GB per Plan <a id=\"gbprp\"></a>"
   ]
  },
  {
   "cell_type": "code",
   "execution_count": 69,
   "id": "3f2dffb7",
   "metadata": {},
   "outputs": [
    {
     "data": {
      "text/html": [
       "<div>\n",
       "<style scoped>\n",
       "    .dataframe tbody tr th:only-of-type {\n",
       "        vertical-align: middle;\n",
       "    }\n",
       "\n",
       "    .dataframe tbody tr th {\n",
       "        vertical-align: top;\n",
       "    }\n",
       "\n",
       "    .dataframe thead th {\n",
       "        text-align: right;\n",
       "    }\n",
       "</style>\n",
       "<table border=\"1\" class=\"dataframe\">\n",
       "  <thead>\n",
       "    <tr style=\"text-align: right;\">\n",
       "      <th></th>\n",
       "      <th>count</th>\n",
       "      <th>mean</th>\n",
       "      <th>std</th>\n",
       "      <th>min</th>\n",
       "      <th>25%</th>\n",
       "      <th>50%</th>\n",
       "      <th>75%</th>\n",
       "      <th>max</th>\n",
       "      <th>var</th>\n",
       "    </tr>\n",
       "    <tr>\n",
       "      <th>plan</th>\n",
       "      <th></th>\n",
       "      <th></th>\n",
       "      <th></th>\n",
       "      <th></th>\n",
       "      <th></th>\n",
       "      <th></th>\n",
       "      <th></th>\n",
       "      <th></th>\n",
       "      <th></th>\n",
       "    </tr>\n",
       "  </thead>\n",
       "  <tbody>\n",
       "    <tr>\n",
       "      <th>surf</th>\n",
       "      <td>1579.0</td>\n",
       "      <td>16.607346</td>\n",
       "      <td>7.899502</td>\n",
       "      <td>0.0</td>\n",
       "      <td>12.0</td>\n",
       "      <td>17.0</td>\n",
       "      <td>21.0</td>\n",
       "      <td>70.0</td>\n",
       "      <td>62.402126</td>\n",
       "    </tr>\n",
       "    <tr>\n",
       "      <th>ultimate</th>\n",
       "      <td>724.0</td>\n",
       "      <td>17.211326</td>\n",
       "      <td>7.755841</td>\n",
       "      <td>0.0</td>\n",
       "      <td>13.0</td>\n",
       "      <td>17.0</td>\n",
       "      <td>21.0</td>\n",
       "      <td>46.0</td>\n",
       "      <td>60.153067</td>\n",
       "    </tr>\n",
       "  </tbody>\n",
       "</table>\n",
       "</div>"
      ],
      "text/plain": [
       "           count       mean       std  min   25%   50%   75%   max        var\n",
       "plan                                                                         \n",
       "surf      1579.0  16.607346  7.899502  0.0  12.0  17.0  21.0  70.0  62.402126\n",
       "ultimate   724.0  17.211326  7.755841  0.0  13.0  17.0  21.0  46.0  60.153067"
      ]
     },
     "execution_count": 69,
     "metadata": {},
     "output_type": "execute_result"
    }
   ],
   "source": [
    "tmp = chart.groupby('plan')['gb'].describe()\n",
    "\n",
    "tmp['var'] = tmp['std']*tmp['std']\n",
    "tmp"
   ]
  },
  {
   "cell_type": "markdown",
   "id": "f38c04fc",
   "metadata": {},
   "source": [
    "Usage almost identical. Again there's a surf user with record breaking usage, but his not the majority.\n",
    "The data implies again that users use their phone the same irrelevant of their plan."
   ]
  },
  {
   "cell_type": "code",
   "execution_count": 70,
   "id": "73741764",
   "metadata": {},
   "outputs": [
    {
     "data": {
      "image/png": "[encoded data removed]",
      "text/plain": [
       "<Figure size 432x288 with 1 Axes>"
      ]
     },
     "metadata": {
      "needs_background": "light"
     },
     "output_type": "display_data"
    },
    {
     "data": {
      "image/png": "[encoded data removed]",
      "text/plain": [
       "<Figure size 432x288 with 1 Axes>"
      ]
     },
     "metadata": {
      "needs_background": "light"
     },
     "output_type": "display_data"
    }
   ],
   "source": [
    "ultimate_chart.hist('gb', bins=12, range=(0,75))\n",
    "plt.title('ultimate_gb')\n",
    "plt.ylabel('num of fees')\n",
    "plt.xlabel('GB monthly usage')\n",
    "plt.show()\n",
    "\n",
    "surf_chart.hist('gb', bins=12, range=(0,75))\n",
    "plt.title('surf_gb')\n",
    "plt.ylabel('num of fees')\n",
    "plt.xlabel('GB monthly usage')\n",
    "plt.show()"
   ]
  },
  {
   "cell_type": "markdown",
   "id": "b9e5ceee",
   "metadata": {},
   "source": [
    "As witnessed in \"GB per plan\", the data for the different plans is almost statistically identical, and hence the histograms have the same general shape."
   ]
  },
  {
   "cell_type": "markdown",
   "id": "0409b0d1",
   "metadata": {},
   "source": [
    "# Hypotheses <a id=\"hyp\"></a>"
   ]
  },
  {
   "cell_type": "markdown",
   "id": "8bf4a2e0",
   "metadata": {},
   "source": [
    "<b>H0: the revenue means for the two Megaline plans are equal\n",
    "    \n",
    "   H1: the revenue means for the two Megaline plans differ</b>"
   ]
  },
  {
   "cell_type": "code",
   "execution_count": 71,
   "id": "a7eab3a0",
   "metadata": {
    "scrolled": true
   },
   "outputs": [
    {
     "name": "stdout",
     "output_type": "stream",
     "text": [
      "p-value: [1.21841159e-15]\n",
      "We reject the null hypothesis\n"
     ]
    }
   ],
   "source": [
    "# test the null hypothesis - the revenue means for the two Megaline plans are equal\n",
    "alpha = 0.05\n",
    "\n",
    "results = st.ttest_ind(surf_revenue, ultimate_revenue, equal_var=False)\n",
    "\n",
    "print('p-value:', results.pvalue)\n",
    "\n",
    "if results.pvalue < alpha:\n",
    "    print(\"We reject the null hypothesis\")\n",
    "else:\n",
    "    print(\"We can't reject the null hypothesis\")"
   ]
  },
  {
   "cell_type": "markdown",
   "id": "04e32b73",
   "metadata": {},
   "source": [
    "The null hypotheses is strongly as it gets rejected, as p-value is very small. Thus, the alternative hypotheses - <b>the averages differ</b> - is pretty likely to be true"
   ]
  },
  {
   "cell_type": "markdown",
   "id": "d4e0f7b8",
   "metadata": {},
   "source": [
    "<b>H0: the revenue means for NY-NJ and all other areas are equal\n",
    "    \n",
    "   H1: the revenue means for NY-NJ and all other areas differ</b>"
   ]
  },
  {
   "cell_type": "code",
   "execution_count": 72,
   "id": "cad569d7",
   "metadata": {},
   "outputs": [
    {
     "name": "stdout",
     "output_type": "stream",
     "text": [
      "p-value: 0.03870322661292944\n",
      "We reject the null hypothesis\n"
     ]
    }
   ],
   "source": [
    "# test the null hypothesis - the revenue means for NY-NJ and all other areas are equal\n",
    "alpha = 0.05\n",
    "\n",
    "results = st.ttest_ind(revenue_NY_NJ, revenue_rest, equal_var=False)\n",
    "\n",
    "print('p-value:', results.pvalue)\n",
    "\n",
    "if results.pvalue < alpha:\n",
    "    print(\"We reject the null hypothesis\")\n",
    "else:\n",
    "    print(\"We can't reject the null hypothesis\")"
   ]
  },
  {
   "cell_type": "markdown",
   "id": "f90d8220",
   "metadata": {},
   "source": [
    "The null hypotheses is rejected, as p-value is small. Thus, the alternative hypotheses - <b>the averages differ</b> - is more likely. Though, in this case neither conclusion is strong as p-value is around the size of alpha."
   ]
  },
  {
   "cell_type": "markdown",
   "id": "9cf1d399",
   "metadata": {},
   "source": [
    "# Conclusion <a id=\"conc\"></a>"
   ]
  },
  {
   "cell_type": "markdown",
   "id": "34954c73",
   "metadata": {},
   "source": [
    "Both plans donate their part to the revenue - the majority of users from both plans pay around the basic fee of their plan every month, and while surf basic fee is 3 times cheaper than ultimate's basic fee, there're 3 times more surf customers, and if thats a reflection of reality its important for the company to have a cheap popular plan, especially if it turns out the median surf user pays 40$ per month, twice the plan's basic fee.\n",
    "\n",
    "A considerable amount of surf customers (more than 25% of them) bring the company the same revenue as ultimate customers do and even more.\n",
    "\n",
    "A lot of surf customers who pass their basic service are still paying less than the basic price for the ultimate plan. Therefore they less prone for changing their plan to ultimate. On the other hand, those surf customers who pass their monthly basic service and end up paying more than the basic fee for the ultimate plan are actually the best customers the company has - they take less of the company's assets and end up paying more for them. And as mentioned they're not a minority - more than 25% of surf customers end up paying more than the ultimate customers, making them the most profitable subset of clients.\n",
    "So, when advertising for the ultimate plan its good to keep in mind the company need to preserve those high paying surf customers.\n",
    "\n",
    "The median user from either plan is pretty identical - 17 GB of data, 30 SMS and 420 minutes of calls per month.\n",
    "Both plans supply more than enough minutes and SMS's for the median user - so users who choose ultimate over surf probably do it for the extra data usage they get.\n",
    "\n",
    "Usage of every parameter of the company's service plans rised along the year steeply, while number of registered users rised linearly. That suggests average usage per user rised as well through the year.\n",
    "\n",
    "Outliers were'nt handled because they're not defined well - a user gb usage can be an outlier, while his call duration and sms usage is normal. In such a case, removing the gb usage outlier will result in faulty calculation of the user's revenue."
   ]
  },
  {
   "cell_type": "code",
   "execution_count": null,
   "id": "9e47ef81",
   "metadata": {},
   "outputs": [],
   "source": []
  }
 ],
 "metadata": {
  "ExecuteTimeLog": [
   {
    "duration": 105,
    "start_time": "2021-12-01T08:51:59.413Z"
   },
   {
    "duration": 115,
    "start_time": "2021-12-01T12:06:19.720Z"
   },
   {
    "duration": 108,
    "start_time": "2021-12-01T14:25:10.841Z"
   },
   {
    "duration": 124,
    "start_time": "2021-12-02T08:35:30.209Z"
   },
   {
    "duration": 96,
    "start_time": "2021-12-03T10:35:54.203Z"
   },
   {
    "duration": 1037,
    "start_time": "2022-02-18T20:15:55.458Z"
   },
   {
    "duration": 1202,
    "start_time": "2022-02-18T20:16:04.726Z"
   }
  ],
  "kernelspec": {
   "display_name": "Python 3",
   "language": "python",
   "name": "python3"
  },
  "language_info": {
   "codemirror_mode": {
    "name": "ipython",
    "version": 3
   },
   "file_extension": ".py",
   "mimetype": "text/x-python",
   "name": "python",
   "nbconvert_exporter": "python",
   "pygments_lexer": "ipython3",
   "version": "3.8.8"
  },
  "toc": {
   "base_numbering": 1,
   "nav_menu": {},
   "number_sections": true,
   "sideBar": true,
   "skip_h1_title": true,
   "title_cell": "Table of Contents",
   "title_sidebar": "Contents",
   "toc_cell": false,
   "toc_position": {},
   "toc_section_display": true,
   "toc_window_display": false
  }
 },
 "nbformat": 4,
 "nbformat_minor": 5
}
